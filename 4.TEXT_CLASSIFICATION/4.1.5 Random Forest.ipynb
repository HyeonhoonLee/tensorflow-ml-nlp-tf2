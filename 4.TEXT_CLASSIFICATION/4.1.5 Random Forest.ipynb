{
  "nbformat": 4,
  "nbformat_minor": 0,
  "metadata": {
    "kernelspec": {
      "display_name": "Python 3",
      "language": "python",
      "name": "python3"
    },
    "language_info": {
      "codemirror_mode": {
        "name": "ipython",
        "version": 3
      },
      "file_extension": ".py",
      "mimetype": "text/x-python",
      "name": "python",
      "nbconvert_exporter": "python",
      "pygments_lexer": "ipython3",
      "version": "3.6.8"
    },
    "colab": {
      "name": "4.1.5 Random Forest.ipynb",
      "provenance": [],
      "toc_visible": true
    },
    "accelerator": "GPU"
  },
  "cells": [
    {
      "cell_type": "code",
      "metadata": {
        "id": "Xe6353U3O_aL",
        "outputId": "72e53311-519b-4f36-a2a7-7180e4c24a80",
        "colab": {
          "base_uri": "https://localhost:8080/"
        }
      },
      "source": [
        "from google.colab import drive\n",
        "drive.mount('/content/drive')"
      ],
      "execution_count": 1,
      "outputs": [
        {
          "output_type": "stream",
          "text": [
            "Mounted at /content/drive\n"
          ],
          "name": "stdout"
        }
      ]
    },
    {
      "cell_type": "code",
      "metadata": {
        "id": "_nBkjnJyO14p"
      },
      "source": [
        "import os\n",
        "os.chdir('/content/drive/MyDrive/DataCollection/tensorflow-ml-nlp-tf2/4.TEXT_CLASSIFICATION')"
      ],
      "execution_count": 2,
      "outputs": []
    },
    {
      "cell_type": "code",
      "metadata": {
        "id": "YvSvoteyO1uG",
        "outputId": "b88a7b12-ce60-41ac-d1e9-ff3d575144eb",
        "colab": {
          "base_uri": "https://localhost:8080/",
          "height": 35
        }
      },
      "source": [
        "os.getcwd()"
      ],
      "execution_count": 3,
      "outputs": [
        {
          "output_type": "execute_result",
          "data": {
            "application/vnd.google.colaboratory.intrinsic+json": {
              "type": "string"
            },
            "text/plain": [
              "'/content/drive/MyDrive/DataCollection/tensorflow-ml-nlp-tf2/4.TEXT_CLASSIFICATION'"
            ]
          },
          "metadata": {
            "tags": []
          },
          "execution_count": 3
        }
      ]
    },
    {
      "cell_type": "markdown",
      "metadata": {
        "id": "72GBpZOrOZLc"
      },
      "source": [
        "# 패키지 및 데이터 불러오기 불러오기"
      ]
    },
    {
      "cell_type": "code",
      "metadata": {
        "id": "_6XchEvcOZLd"
      },
      "source": [
        "import pandas as pd\n",
        "import numpy as np\n",
        "import os\n",
        "from sklearn.feature_extraction.text import CountVectorizer"
      ],
      "execution_count": 4,
      "outputs": []
    },
    {
      "cell_type": "code",
      "metadata": {
        "id": "5iaejFF0OZLd"
      },
      "source": [
        "DATA_IN_PATH = './data_in/'\n",
        "DATA_OUT_PATH = './data_out/'\n",
        "TRAIN_CLEAN_DATA = 'train_clean.csv'\n",
        "TEST_SIZE = 0.2\n",
        "RANDOM_SEED = 42"
      ],
      "execution_count": 5,
      "outputs": []
    },
    {
      "cell_type": "code",
      "metadata": {
        "id": "a5aZX-WVOZLd"
      },
      "source": [
        "train_data = pd.read_csv(DATA_IN_PATH + TRAIN_CLEAN_DATA)"
      ],
      "execution_count": 6,
      "outputs": []
    },
    {
      "cell_type": "code",
      "metadata": {
        "id": "jCZ-ZEq-OZLd"
      },
      "source": [
        "reviews = list(train_data['review'])\n",
        "y = np.array(train_data['sentiment'])"
      ],
      "execution_count": 7,
      "outputs": []
    },
    {
      "cell_type": "markdown",
      "metadata": {
        "id": "05PN-eRqOZLd"
      },
      "source": [
        "# CountVectorizer를 활용한 벡터화"
      ]
    },
    {
      "cell_type": "code",
      "metadata": {
        "id": "-Dj3HxQOOZLe"
      },
      "source": [
        "vectorizer = CountVectorizer(analyzer = \"word\", max_features = 5000) \n",
        "\n",
        "train_data_features = vectorizer.fit_transform(reviews)"
      ],
      "execution_count": 8,
      "outputs": []
    },
    {
      "cell_type": "code",
      "metadata": {
        "id": "ZrZGUbrxUXpx",
        "outputId": "743a5085-2f6d-4274-991e-2f2cfa7670b6",
        "colab": {
          "base_uri": "https://localhost:8080/"
        }
      },
      "source": [
        "train_data_features  ## 25000개의 data가 50000개의 특징값을 가지는 벡터로 표시되었다는 것을 의미"
      ],
      "execution_count": 9,
      "outputs": [
        {
          "output_type": "execute_result",
          "data": {
            "text/plain": [
              "<25000x5000 sparse matrix of type '<class 'numpy.int64'>'\n",
              "\twith 1975048 stored elements in Compressed Sparse Row format>"
            ]
          },
          "metadata": {
            "tags": []
          },
          "execution_count": 9
        }
      ]
    },
    {
      "cell_type": "markdown",
      "metadata": {
        "id": "znMBByCdOZLe"
      },
      "source": [
        "# 학습과 검증 데이터 분리"
      ]
    },
    {
      "cell_type": "code",
      "metadata": {
        "id": "i4I72v_XOZLe"
      },
      "source": [
        "from sklearn.model_selection import train_test_split"
      ],
      "execution_count": 12,
      "outputs": []
    },
    {
      "cell_type": "code",
      "metadata": {
        "id": "oxjRTC3HOZLe"
      },
      "source": [
        "train_input, eval_input, train_label, eval_label = train_test_split(train_data_features, y, test_size=TEST_SIZE, random_state=RANDOM_SEED)"
      ],
      "execution_count": 13,
      "outputs": []
    },
    {
      "cell_type": "markdown",
      "metadata": {
        "id": "CyhuaLmJOZLe"
      },
      "source": [
        "# 모델 구현 및 학습 "
      ]
    },
    {
      "cell_type": "code",
      "metadata": {
        "id": "jfV6destOZLe",
        "outputId": "afe35861-4146-42af-95f9-005cbda3410c",
        "colab": {
          "base_uri": "https://localhost:8080/"
        }
      },
      "source": [
        "from sklearn.ensemble import RandomForestClassifier\n",
        "\n",
        "\n",
        "# 랜덤 포레스트 분류기에  100개 의사 결정 트리를 사용한다.\n",
        "forest = RandomForestClassifier(n_estimators = 100) \n",
        "\n",
        "# 단어 묶음을 벡터화한 데이터와 정답 데이터를 가지고 학습을 시작한다.\n",
        "forest.fit( train_input, train_label )"
      ],
      "execution_count": 14,
      "outputs": [
        {
          "output_type": "execute_result",
          "data": {
            "text/plain": [
              "RandomForestClassifier(bootstrap=True, ccp_alpha=0.0, class_weight=None,\n",
              "                       criterion='gini', max_depth=None, max_features='auto',\n",
              "                       max_leaf_nodes=None, max_samples=None,\n",
              "                       min_impurity_decrease=0.0, min_impurity_split=None,\n",
              "                       min_samples_leaf=1, min_samples_split=2,\n",
              "                       min_weight_fraction_leaf=0.0, n_estimators=100,\n",
              "                       n_jobs=None, oob_score=False, random_state=None,\n",
              "                       verbose=0, warm_start=False)"
            ]
          },
          "metadata": {
            "tags": []
          },
          "execution_count": 14
        }
      ]
    },
    {
      "cell_type": "code",
      "metadata": {
        "id": "jdetGFSBOZLe",
        "outputId": "8a6535a1-5cc7-4da1-9468-e24e53177702",
        "colab": {
          "base_uri": "https://localhost:8080/"
        }
      },
      "source": [
        "print(\"Accuracy: %f\" % forest.score(eval_input, eval_label))  # 검증함수로 정확도 측정"
      ],
      "execution_count": 15,
      "outputs": [
        {
          "output_type": "stream",
          "text": [
            "Accuracy: 0.840400\n"
          ],
          "name": "stdout"
        }
      ]
    },
    {
      "cell_type": "markdown",
      "metadata": {
        "id": "eem2-3G0OZLe"
      },
      "source": [
        "# 검증 데이터셋으로 성능 평가"
      ]
    },
    {
      "cell_type": "code",
      "metadata": {
        "id": "01nzvrCqOZLe"
      },
      "source": [
        "TEST_CLEAN_DATA = 'test_clean.csv'\n",
        "\n",
        "test_data = pd.read_csv(DATA_IN_PATH + TEST_CLEAN_DATA)\n",
        "\n",
        "test_reviews = list(test_data['review'])\n",
        "ids = list(test_data['id'])"
      ],
      "execution_count": null,
      "outputs": []
    },
    {
      "cell_type": "code",
      "metadata": {
        "id": "wFafTy5YOZLe"
      },
      "source": [
        "test_data_features = vectorizer.transform(test_reviews)"
      ],
      "execution_count": null,
      "outputs": []
    },
    {
      "cell_type": "markdown",
      "metadata": {
        "id": "WYNkuocPOZLe"
      },
      "source": [
        "# 데이터 제출하기"
      ]
    },
    {
      "cell_type": "code",
      "metadata": {
        "id": "nW8OUB7gOZLe"
      },
      "source": [
        "if not os.path.exists(DATA_OUT_PATH):\n",
        "    os.makedirs(DATA_OUT_PATH)\n",
        "    \n",
        "# 위에서 만든 랜덤 포레스트 분류기를 통해 예측값을 가져온다.\n",
        "result = forest.predict(test_data_features)\n",
        "\n",
        "# 판다스 데이터 프레임을 통해 데이터를 구성해서 output에 넣는다.\n",
        "output = pd.DataFrame( data={\"id\": ids, \"sentiment\": result} )\n",
        "\n",
        "# 이제 csv파일로 만든다.\n",
        "output.to_csv( DATA_OUT_PATH + \"Bag_of_Words_model.csv\", index=False, quoting=3 )"
      ],
      "execution_count": null,
      "outputs": []
    },
    {
      "cell_type": "code",
      "metadata": {
        "id": "uqH0tzksUFZr"
      },
      "source": [
        ""
      ],
      "execution_count": null,
      "outputs": []
    }
  ]
}