{
  "nbformat": 4,
  "nbformat_minor": 0,
  "metadata": {
    "kernelspec": {
      "display_name": "Python 3",
      "language": "python",
      "name": "python3"
    },
    "language_info": {
      "codemirror_mode": {
        "name": "ipython",
        "version": 3
      },
      "file_extension": ".py",
      "mimetype": "text/x-python",
      "name": "python",
      "nbconvert_exporter": "python",
      "pygments_lexer": "ipython3",
      "version": "3.6.8"
    },
    "pycharm": {
      "stem_cell": {
        "cell_type": "raw",
        "metadata": {
          "collapsed": false
        },
        "source": []
      }
    },
    "colab": {
      "name": "4.1.6 RNN Classification.ipynb",
      "provenance": [],
      "toc_visible": true
    }
  },
  "cells": [
    {
      "cell_type": "code",
      "metadata": {
        "id": "16wkMazxV-CT",
        "outputId": "41d9f61f-ff0e-4239-bf3a-8eb5fb14427d",
        "colab": {
          "base_uri": "https://localhost:8080/"
        }
      },
      "source": [
        "from google.colab import drive\n",
        "drive.mount('/content/drive')"
      ],
      "execution_count": 1,
      "outputs": [
        {
          "output_type": "stream",
          "text": [
            "Mounted at /content/drive\n"
          ],
          "name": "stdout"
        }
      ]
    },
    {
      "cell_type": "code",
      "metadata": {
        "id": "-97G_9JgWEsj"
      },
      "source": [
        "import os\n",
        "os.chdir('/content/drive/MyDrive/DataCollection/tensorflow-ml-nlp-tf2/4.TEXT_CLASSIFICATION')"
      ],
      "execution_count": 2,
      "outputs": []
    },
    {
      "cell_type": "code",
      "metadata": {
        "id": "cu35O4hrWEpr",
        "outputId": "bf3807a0-6faf-43de-f4f7-a76a563f6436",
        "colab": {
          "base_uri": "https://localhost:8080/",
          "height": 35
        }
      },
      "source": [
        "os.getcwd()"
      ],
      "execution_count": 3,
      "outputs": [
        {
          "output_type": "execute_result",
          "data": {
            "application/vnd.google.colaboratory.intrinsic+json": {
              "type": "string"
            },
            "text/plain": [
              "'/content/drive/MyDrive/DataCollection/tensorflow-ml-nlp-tf2/4.TEXT_CLASSIFICATION'"
            ]
          },
          "metadata": {
            "tags": []
          },
          "execution_count": 3
        }
      ]
    },
    {
      "cell_type": "markdown",
      "metadata": {
        "id": "DiZj6cV-V5ip"
      },
      "source": [
        "## 모듈 불러오기"
      ]
    },
    {
      "cell_type": "code",
      "metadata": {
        "pycharm": {
          "is_executing": false
        },
        "id": "GpN0VEynV5ip"
      },
      "source": [
        "import tensorflow as tf\n",
        "from tensorflow.keras.preprocessing.sequence import pad_sequences\n",
        "from tensorflow.keras.callbacks import EarlyStopping, ModelCheckpoint\n",
        "from tensorflow.keras import layers\n",
        "\n",
        "import numpy as np\n",
        "import pandas as pd\n",
        "\n",
        "import matplotlib.pyplot as plt\n",
        "\n",
        "import os\n",
        "import json\n",
        "\n",
        "from tqdm import tqdm"
      ],
      "execution_count": 5,
      "outputs": []
    },
    {
      "cell_type": "markdown",
      "metadata": {
        "id": "dOjYD36gV5ip"
      },
      "source": [
        "## 시각화 함수"
      ]
    },
    {
      "cell_type": "code",
      "metadata": {
        "pycharm": {
          "is_executing": false
        },
        "id": "HyGUtyoWV5ip"
      },
      "source": [
        "def plot_graphs(history, string):\n",
        "    plt.plot(history.history[string])\n",
        "    plt.plot(history.history['val_'+string], '') ## 2번째 arg에 ''가 왜 필요한지는 확인이 필요하다.\n",
        "    plt.xlabel(\"Epochs\")\n",
        "    plt.ylabel(string)\n",
        "    plt.legend([string, 'val_'+string])\n",
        "    plt.show()"
      ],
      "execution_count": 27,
      "outputs": []
    },
    {
      "cell_type": "markdown",
      "metadata": {
        "id": "25sF_gNoV5ip"
      },
      "source": [
        "## 학습 데이터 경로 정의 "
      ]
    },
    {
      "cell_type": "code",
      "metadata": {
        "pycharm": {
          "is_executing": false
        },
        "id": "_4P9L6mgV5ip"
      },
      "source": [
        "DATA_IN_PATH = './data_in/'\n",
        "DATA_OUT_PATH = './data_out/'\n",
        "TRAIN_INPUT_DATA = 'train_input.npy'\n",
        "TRAIN_LABEL_DATA = 'train_label.npy'\n",
        "DATA_CONFIGS = 'data_configs.json'  # 데이터에 대한 사전(vocab) 정보"
      ],
      "execution_count": 6,
      "outputs": []
    },
    {
      "cell_type": "markdown",
      "metadata": {
        "id": "ic3SpEXMV5ip"
      },
      "source": [
        "## 랜덤 시드 고정"
      ]
    },
    {
      "cell_type": "code",
      "metadata": {
        "id": "ImkWFZrMV5iq"
      },
      "source": [
        "SEED_NUM = 1234\n",
        "tf.random.set_seed(SEED_NUM)"
      ],
      "execution_count": 7,
      "outputs": []
    },
    {
      "cell_type": "markdown",
      "metadata": {
        "id": "hPHMujAGV5iq"
      },
      "source": [
        "## 파일 로드"
      ]
    },
    {
      "cell_type": "code",
      "metadata": {
        "id": "TeAQeX93V5iq"
      },
      "source": [
        "train_input = np.load(open(DATA_IN_PATH + TRAIN_INPUT_DATA, 'rb'))\n",
        "train_label = np.load(open(DATA_IN_PATH + TRAIN_LABEL_DATA, 'rb'))\n",
        "prepro_configs = json.load(open(DATA_IN_PATH + DATA_CONFIGS, 'r'))"
      ],
      "execution_count": 8,
      "outputs": []
    },
    {
      "cell_type": "code",
      "metadata": {
        "id": "6F2Cj7ajdLB4",
        "outputId": "497b07e0-ded9-4d99-fd98-4a6bbceef57b",
        "colab": {
          "base_uri": "https://localhost:8080/"
        }
      },
      "source": [
        "train_input.shape"
      ],
      "execution_count": 17,
      "outputs": [
        {
          "output_type": "execute_result",
          "data": {
            "text/plain": [
              "(25000, 174)"
            ]
          },
          "metadata": {
            "tags": []
          },
          "execution_count": 17
        }
      ]
    },
    {
      "cell_type": "code",
      "metadata": {
        "id": "UX2nztfedWBC",
        "outputId": "0223d9f8-f03b-4280-b605-d28078e8e132",
        "colab": {
          "base_uri": "https://localhost:8080/"
        }
      },
      "source": [
        "train_input[0]"
      ],
      "execution_count": 18,
      "outputs": [
        {
          "output_type": "execute_result",
          "data": {
            "text/plain": [
              "array([  411,   793,  3342,    17,   441,   600,  1500,    15,  4424,\n",
              "        1851,   998,   146,   342,  1442,   743,  2424,     4,  8815,\n",
              "         418,    70,   637,    69,   237,    94,   541,  8815, 26055,\n",
              "       26056,   120,     1,  8815,   323,     8,    47,    20,   323,\n",
              "         167,    10,   207,   633,   635,     2,   116,   291,   382,\n",
              "         121, 15535,  3315,  1501,   574,   734, 10013,   923, 11578,\n",
              "         822,  1239,  1408,   360,  8815,   221,    15,   576,  8815,\n",
              "       22224,  2274, 13426,   734, 10013,    27, 28606,   340,    16,\n",
              "          41, 18687,  1500,   388, 11243,   165,  3962,  8815,   115,\n",
              "         627,   499,    79,     4,  8815,  1430,   380,  2163,   114,\n",
              "        1919,  2503,   574,    17,    60,   100,  4875,  5100,   260,\n",
              "        1268, 26057,    15,   574,   493,   744,   637,   631,     3,\n",
              "         394,   164,   446,   114,   615,  3266,  1160,   684,    48,\n",
              "        1175,   224,     1,    16,     4,  8815,     3,   507,    62,\n",
              "          25,    16,   640,   133,   231,    95,  7426,   600,  3439,\n",
              "        8815, 37248,  1864,     1,   128,   342,  1442,   247,     3,\n",
              "         865,    16,    42,  1487,   997,  2333,    12,   549,   386,\n",
              "         717,  6920,    12,    41,    16,   158,   362,  4392,  3388,\n",
              "          41,    87,   225,   438,   207,   254,   117,     3, 18688,\n",
              "       18689,   316,  1356], dtype=int32)"
            ]
          },
          "metadata": {
            "tags": []
          },
          "execution_count": 18
        }
      ]
    },
    {
      "cell_type": "code",
      "metadata": {
        "id": "2AALvcmCZGHL",
        "outputId": "9a59cc06-7992-415d-853b-59d7f206cb53",
        "colab": {
          "base_uri": "https://localhost:8080/"
        }
      },
      "source": [
        "prepro_configs"
      ],
      "execution_count": 12,
      "outputs": [
        {
          "output_type": "execute_result",
          "data": {
            "text/plain": [
              "{'vocab': {'movie': 1,\n",
              "  'film': 2,\n",
              "  'one': 3,\n",
              "  'like': 4,\n",
              "  'good': 5,\n",
              "  'time': 6,\n",
              "  'even': 7,\n",
              "  'would': 8,\n",
              "  'story': 9,\n",
              "  'really': 10,\n",
              "  'see': 11,\n",
              "  'well': 12,\n",
              "  'much': 13,\n",
              "  'get': 14,\n",
              "  'bad': 15,\n",
              "  'people': 16,\n",
              "  'also': 17,\n",
              "  'first': 18,\n",
              "  'great': 19,\n",
              "  'made': 20,\n",
              "  'way': 21,\n",
              "  'make': 22,\n",
              "  'could': 23,\n",
              "  'movies': 24,\n",
              "  'think': 25,\n",
              "  'characters': 26,\n",
              "  'character': 27,\n",
              "  'watch': 28,\n",
              "  'two': 29,\n",
              "  'films': 30,\n",
              "  'seen': 31,\n",
              "  'many': 32,\n",
              "  'life': 33,\n",
              "  'plot': 34,\n",
              "  'acting': 35,\n",
              "  'never': 36,\n",
              "  'love': 37,\n",
              "  'little': 38,\n",
              "  'best': 39,\n",
              "  'show': 40,\n",
              "  'know': 41,\n",
              "  'ever': 42,\n",
              "  'man': 43,\n",
              "  'better': 44,\n",
              "  'end': 45,\n",
              "  'still': 46,\n",
              "  'say': 47,\n",
              "  'scene': 48,\n",
              "  'scenes': 49,\n",
              "  'go': 50,\n",
              "  'something': 51,\n",
              "  'back': 52,\n",
              "  'real': 53,\n",
              "  'watching': 54,\n",
              "  'though': 55,\n",
              "  'thing': 56,\n",
              "  'old': 57,\n",
              "  'years': 58,\n",
              "  'actors': 59,\n",
              "  'director': 60,\n",
              "  'work': 61,\n",
              "  'another': 62,\n",
              "  'new': 63,\n",
              "  'nothing': 64,\n",
              "  'funny': 65,\n",
              "  'actually': 66,\n",
              "  'makes': 67,\n",
              "  'look': 68,\n",
              "  'find': 69,\n",
              "  'going': 70,\n",
              "  'part': 71,\n",
              "  'lot': 72,\n",
              "  'every': 73,\n",
              "  'world': 74,\n",
              "  'cast': 75,\n",
              "  'us': 76,\n",
              "  'quite': 77,\n",
              "  'want': 78,\n",
              "  'things': 79,\n",
              "  'pretty': 80,\n",
              "  'young': 81,\n",
              "  'seems': 82,\n",
              "  'around': 83,\n",
              "  'horror': 84,\n",
              "  'got': 85,\n",
              "  'however': 86,\n",
              "  'fact': 87,\n",
              "  'take': 88,\n",
              "  'big': 89,\n",
              "  'enough': 90,\n",
              "  'long': 91,\n",
              "  'thought': 92,\n",
              "  'series': 93,\n",
              "  'may': 94,\n",
              "  'give': 95,\n",
              "  'original': 96,\n",
              "  'action': 97,\n",
              "  'right': 98,\n",
              "  'without': 99,\n",
              "  'must': 100,\n",
              "  'comedy': 101,\n",
              "  'always': 102,\n",
              "  'times': 103,\n",
              "  'point': 104,\n",
              "  'gets': 105,\n",
              "  'family': 106,\n",
              "  'come': 107,\n",
              "  'role': 108,\n",
              "  'saw': 109,\n",
              "  'almost': 110,\n",
              "  'interesting': 111,\n",
              "  'least': 112,\n",
              "  'done': 113,\n",
              "  'whole': 114,\n",
              "  'music': 115,\n",
              "  'bit': 116,\n",
              "  'guy': 117,\n",
              "  'script': 118,\n",
              "  'far': 119,\n",
              "  'making': 120,\n",
              "  'minutes': 121,\n",
              "  'feel': 122,\n",
              "  'anything': 123,\n",
              "  'last': 124,\n",
              "  'might': 125,\n",
              "  'since': 126,\n",
              "  'performance': 127,\n",
              "  'girl': 128,\n",
              "  'probably': 129,\n",
              "  'woman': 130,\n",
              "  'kind': 131,\n",
              "  'tv': 132,\n",
              "  'away': 133,\n",
              "  'yet': 134,\n",
              "  'day': 135,\n",
              "  'rather': 136,\n",
              "  'worst': 137,\n",
              "  'fun': 138,\n",
              "  'sure': 139,\n",
              "  'hard': 140,\n",
              "  'anyone': 141,\n",
              "  'played': 142,\n",
              "  'found': 143,\n",
              "  'although': 144,\n",
              "  'especially': 145,\n",
              "  'course': 146,\n",
              "  'believe': 147,\n",
              "  'screen': 148,\n",
              "  'comes': 149,\n",
              "  'looking': 150,\n",
              "  'trying': 151,\n",
              "  'set': 152,\n",
              "  'goes': 153,\n",
              "  'book': 154,\n",
              "  'looks': 155,\n",
              "  'place': 156,\n",
              "  'actor': 157,\n",
              "  'different': 158,\n",
              "  'put': 159,\n",
              "  'year': 160,\n",
              "  'money': 161,\n",
              "  'ending': 162,\n",
              "  'dvd': 163,\n",
              "  'let': 164,\n",
              "  'maybe': 165,\n",
              "  'someone': 166,\n",
              "  'true': 167,\n",
              "  'sense': 168,\n",
              "  'reason': 169,\n",
              "  'everything': 170,\n",
              "  'shows': 171,\n",
              "  'three': 172,\n",
              "  'worth': 173,\n",
              "  'job': 174,\n",
              "  'main': 175,\n",
              "  'together': 176,\n",
              "  'play': 177,\n",
              "  'watched': 178,\n",
              "  'american': 179,\n",
              "  'everyone': 180,\n",
              "  'plays': 181,\n",
              "  'john': 182,\n",
              "  'effects': 183,\n",
              "  'later': 184,\n",
              "  'audience': 185,\n",
              "  'said': 186,\n",
              "  'takes': 187,\n",
              "  'instead': 188,\n",
              "  'house': 189,\n",
              "  'beautiful': 190,\n",
              "  'seem': 191,\n",
              "  'night': 192,\n",
              "  'high': 193,\n",
              "  'version': 194,\n",
              "  'wife': 195,\n",
              "  'left': 196,\n",
              "  'father': 197,\n",
              "  'special': 198,\n",
              "  'seeing': 199,\n",
              "  'half': 200,\n",
              "  'star': 201,\n",
              "  'excellent': 202,\n",
              "  'war': 203,\n",
              "  'shot': 204,\n",
              "  'idea': 205,\n",
              "  'black': 206,\n",
              "  'nice': 207,\n",
              "  'less': 208,\n",
              "  'else': 209,\n",
              "  'mind': 210,\n",
              "  'simply': 211,\n",
              "  'read': 212,\n",
              "  'second': 213,\n",
              "  'fan': 214,\n",
              "  'men': 215,\n",
              "  'death': 216,\n",
              "  'hollywood': 217,\n",
              "  'poor': 218,\n",
              "  'help': 219,\n",
              "  'completely': 220,\n",
              "  'dead': 221,\n",
              "  'used': 222,\n",
              "  'home': 223,\n",
              "  'line': 224,\n",
              "  'either': 225,\n",
              "  'short': 226,\n",
              "  'top': 227,\n",
              "  'given': 228,\n",
              "  'kids': 229,\n",
              "  'budget': 230,\n",
              "  'try': 231,\n",
              "  'classic': 232,\n",
              "  'performances': 233,\n",
              "  'wrong': 234,\n",
              "  'women': 235,\n",
              "  'enjoy': 236,\n",
              "  'boring': 237,\n",
              "  'need': 238,\n",
              "  'rest': 239,\n",
              "  'use': 240,\n",
              "  'low': 241,\n",
              "  'production': 242,\n",
              "  'friends': 243,\n",
              "  'full': 244,\n",
              "  'camera': 245,\n",
              "  'along': 246,\n",
              "  'truly': 247,\n",
              "  'video': 248,\n",
              "  'awful': 249,\n",
              "  'couple': 250,\n",
              "  'tell': 251,\n",
              "  'next': 252,\n",
              "  'remember': 253,\n",
              "  'stupid': 254,\n",
              "  'start': 255,\n",
              "  'stars': 256,\n",
              "  'mean': 257,\n",
              "  'sex': 258,\n",
              "  'perhaps': 259,\n",
              "  'came': 260,\n",
              "  'recommend': 261,\n",
              "  'moments': 262,\n",
              "  'school': 263,\n",
              "  'episode': 264,\n",
              "  'wonderful': 265,\n",
              "  'small': 266,\n",
              "  'face': 267,\n",
              "  'understand': 268,\n",
              "  'terrible': 269,\n",
              "  'playing': 270,\n",
              "  'getting': 271,\n",
              "  'written': 272,\n",
              "  'early': 273,\n",
              "  'name': 274,\n",
              "  'often': 275,\n",
              "  'keep': 276,\n",
              "  'style': 277,\n",
              "  'perfect': 278,\n",
              "  'human': 279,\n",
              "  'person': 280,\n",
              "  'others': 281,\n",
              "  'definitely': 282,\n",
              "  'gives': 283,\n",
              "  'boy': 284,\n",
              "  'lost': 285,\n",
              "  'live': 286,\n",
              "  'lines': 287,\n",
              "  'become': 288,\n",
              "  'dialogue': 289,\n",
              "  'head': 290,\n",
              "  'finally': 291,\n",
              "  'piece': 292,\n",
              "  'yes': 293,\n",
              "  'case': 294,\n",
              "  'felt': 295,\n",
              "  'mother': 296,\n",
              "  'liked': 297,\n",
              "  'supposed': 298,\n",
              "  'children': 299,\n",
              "  'title': 300,\n",
              "  'white': 301,\n",
              "  'cinema': 302,\n",
              "  'absolutely': 303,\n",
              "  'picture': 304,\n",
              "  'sort': 305,\n",
              "  'worse': 306,\n",
              "  'went': 307,\n",
              "  'certainly': 308,\n",
              "  'entire': 309,\n",
              "  'waste': 310,\n",
              "  'killer': 311,\n",
              "  'problem': 312,\n",
              "  'oh': 313,\n",
              "  'mr': 314,\n",
              "  'evil': 315,\n",
              "  'hope': 316,\n",
              "  'entertaining': 317,\n",
              "  'friend': 318,\n",
              "  'overall': 319,\n",
              "  'called': 320,\n",
              "  'based': 321,\n",
              "  'loved': 322,\n",
              "  'fans': 323,\n",
              "  'several': 324,\n",
              "  'drama': 325,\n",
              "  'beginning': 326,\n",
              "  'lives': 327,\n",
              "  'care': 328,\n",
              "  'already': 329,\n",
              "  'dark': 330,\n",
              "  'becomes': 331,\n",
              "  'laugh': 332,\n",
              "  'example': 333,\n",
              "  'direction': 334,\n",
              "  'despite': 335,\n",
              "  'seemed': 336,\n",
              "  'throughout': 337,\n",
              "  'turn': 338,\n",
              "  'son': 339,\n",
              "  'wanted': 340,\n",
              "  'unfortunately': 341,\n",
              "  'michael': 342,\n",
              "  'history': 343,\n",
              "  'final': 344,\n",
              "  'heart': 345,\n",
              "  'fine': 346,\n",
              "  'sound': 347,\n",
              "  'b': 348,\n",
              "  'amazing': 349,\n",
              "  'child': 350,\n",
              "  'humor': 351,\n",
              "  'lead': 352,\n",
              "  'guess': 353,\n",
              "  'totally': 354,\n",
              "  'writing': 355,\n",
              "  'guys': 356,\n",
              "  'quality': 357,\n",
              "  'close': 358,\n",
              "  'art': 359,\n",
              "  'wants': 360,\n",
              "  'game': 361,\n",
              "  'behind': 362,\n",
              "  'town': 363,\n",
              "  'works': 364,\n",
              "  'side': 365,\n",
              "  'tries': 366,\n",
              "  'days': 367,\n",
              "  'past': 368,\n",
              "  'viewer': 369,\n",
              "  'able': 370,\n",
              "  'flick': 371,\n",
              "  'hand': 372,\n",
              "  'genre': 373,\n",
              "  'turns': 374,\n",
              "  'act': 375,\n",
              "  'enjoyed': 376,\n",
              "  'today': 377,\n",
              "  'kill': 378,\n",
              "  'favorite': 379,\n",
              "  'car': 380,\n",
              "  'soon': 381,\n",
              "  'starts': 382,\n",
              "  'actress': 383,\n",
              "  'run': 384,\n",
              "  'sometimes': 385,\n",
              "  'gave': 386,\n",
              "  'eyes': 387,\n",
              "  'etc': 388,\n",
              "  'girls': 389,\n",
              "  'late': 390,\n",
              "  'god': 391,\n",
              "  'directed': 392,\n",
              "  'horrible': 393,\n",
              "  'kid': 394,\n",
              "  'brilliant': 395,\n",
              "  'city': 396,\n",
              "  'parts': 397,\n",
              "  'hour': 398,\n",
              "  'blood': 399,\n",
              "  'self': 400,\n",
              "  'thinking': 401,\n",
              "  'stories': 402,\n",
              "  'expect': 403,\n",
              "  'stuff': 404,\n",
              "  'obviously': 405,\n",
              "  'decent': 406,\n",
              "  'voice': 407,\n",
              "  'writer': 408,\n",
              "  'fight': 409,\n",
              "  'highly': 410,\n",
              "  'feeling': 411,\n",
              "  'daughter': 412,\n",
              "  'slow': 413,\n",
              "  'except': 414,\n",
              "  'matter': 415,\n",
              "  'type': 416,\n",
              "  'age': 417,\n",
              "  'anyway': 418,\n",
              "  'moment': 419,\n",
              "  'roles': 420,\n",
              "  'heard': 421,\n",
              "  'killed': 422,\n",
              "  'says': 423,\n",
              "  'brother': 424,\n",
              "  'leave': 425,\n",
              "  'took': 426,\n",
              "  'police': 427,\n",
              "  'strong': 428,\n",
              "  'cannot': 429,\n",
              "  'violence': 430,\n",
              "  'hit': 431,\n",
              "  'stop': 432,\n",
              "  'happens': 433,\n",
              "  'known': 434,\n",
              "  'particularly': 435,\n",
              "  'happened': 436,\n",
              "  'involved': 437,\n",
              "  'extremely': 438,\n",
              "  'james': 439,\n",
              "  'chance': 440,\n",
              "  'obvious': 441,\n",
              "  'murder': 442,\n",
              "  'living': 443,\n",
              "  'told': 444,\n",
              "  'coming': 445,\n",
              "  'alone': 446,\n",
              "  'experience': 447,\n",
              "  'lack': 448,\n",
              "  'hero': 449,\n",
              "  'including': 450,\n",
              "  'attempt': 451,\n",
              "  'please': 452,\n",
              "  'happen': 453,\n",
              "  'crap': 454,\n",
              "  'gore': 455,\n",
              "  'wonder': 456,\n",
              "  'complete': 457,\n",
              "  'cut': 458,\n",
              "  'group': 459,\n",
              "  'interest': 460,\n",
              "  'ago': 461,\n",
              "  'none': 462,\n",
              "  'score': 463,\n",
              "  'husband': 464,\n",
              "  'hell': 465,\n",
              "  'david': 466,\n",
              "  'save': 467,\n",
              "  'simple': 468,\n",
              "  'ok': 469,\n",
              "  'looked': 470,\n",
              "  'song': 471,\n",
              "  'career': 472,\n",
              "  'number': 473,\n",
              "  'seriously': 474,\n",
              "  'king': 475,\n",
              "  'possible': 476,\n",
              "  'annoying': 477,\n",
              "  'sad': 478,\n",
              "  'exactly': 479,\n",
              "  'shown': 480,\n",
              "  'running': 481,\n",
              "  'musical': 482,\n",
              "  'serious': 483,\n",
              "  'scary': 484,\n",
              "  'reality': 485,\n",
              "  'released': 486,\n",
              "  'taken': 487,\n",
              "  'whose': 488,\n",
              "  'english': 489,\n",
              "  'ends': 490,\n",
              "  'cinematography': 491,\n",
              "  'hours': 492,\n",
              "  'usually': 493,\n",
              "  'opening': 494,\n",
              "  'jokes': 495,\n",
              "  'light': 496,\n",
              "  'hilarious': 497,\n",
              "  'body': 498,\n",
              "  'cool': 499,\n",
              "  'across': 500,\n",
              "  'relationship': 501,\n",
              "  'somewhat': 502,\n",
              "  'usual': 503,\n",
              "  'happy': 504,\n",
              "  'ridiculous': 505,\n",
              "  'started': 506,\n",
              "  'level': 507,\n",
              "  'view': 508,\n",
              "  'change': 509,\n",
              "  'opinion': 510,\n",
              "  'novel': 511,\n",
              "  'wish': 512,\n",
              "  'middle': 513,\n",
              "  'taking': 514,\n",
              "  'talking': 515,\n",
              "  'documentary': 516,\n",
              "  'ones': 517,\n",
              "  'robert': 518,\n",
              "  'order': 519,\n",
              "  'finds': 520,\n",
              "  'power': 521,\n",
              "  'shots': 522,\n",
              "  'saying': 523,\n",
              "  'room': 524,\n",
              "  'female': 525,\n",
              "  'huge': 526,\n",
              "  'mostly': 527,\n",
              "  'episodes': 528,\n",
              "  'country': 529,\n",
              "  'five': 530,\n",
              "  'talent': 531,\n",
              "  'important': 532,\n",
              "  'modern': 533,\n",
              "  'earth': 534,\n",
              "  'rating': 535,\n",
              "  'major': 536,\n",
              "  'strange': 537,\n",
              "  'word': 538,\n",
              "  'turned': 539,\n",
              "  'jack': 540,\n",
              "  'call': 541,\n",
              "  'single': 542,\n",
              "  'apparently': 543,\n",
              "  'disappointed': 544,\n",
              "  'four': 545,\n",
              "  'events': 546,\n",
              "  'due': 547,\n",
              "  'songs': 548,\n",
              "  'attention': 549,\n",
              "  'basically': 550,\n",
              "  'television': 551,\n",
              "  'comic': 552,\n",
              "  'knows': 553,\n",
              "  'future': 554,\n",
              "  'clearly': 555,\n",
              "  'supporting': 556,\n",
              "  'british': 557,\n",
              "  'non': 558,\n",
              "  'paul': 559,\n",
              "  'knew': 560,\n",
              "  'fast': 561,\n",
              "  'thriller': 562,\n",
              "  'class': 563,\n",
              "  'easily': 564,\n",
              "  'cheap': 565,\n",
              "  'silly': 566,\n",
              "  'problems': 567,\n",
              "  'words': 568,\n",
              "  'miss': 569,\n",
              "  'tells': 570,\n",
              "  'entertainment': 571,\n",
              "  'local': 572,\n",
              "  'rock': 573,\n",
              "  'sequence': 574,\n",
              "  'bring': 575,\n",
              "  'beyond': 576,\n",
              "  'straight': 577,\n",
              "  'george': 578,\n",
              "  'oscar': 579,\n",
              "  'upon': 580,\n",
              "  'whether': 581,\n",
              "  'predictable': 582,\n",
              "  'moving': 583,\n",
              "  'romantic': 584,\n",
              "  'sets': 585,\n",
              "  'similar': 586,\n",
              "  'falls': 587,\n",
              "  'mystery': 588,\n",
              "  'review': 589,\n",
              "  'eye': 590,\n",
              "  'lady': 591,\n",
              "  'richard': 592,\n",
              "  'talk': 593,\n",
              "  'enjoyable': 594,\n",
              "  'appears': 595,\n",
              "  'needs': 596,\n",
              "  'clich': 597,\n",
              "  'giving': 598,\n",
              "  'within': 599,\n",
              "  'message': 600,\n",
              "  'ten': 601,\n",
              "  'theater': 602,\n",
              "  'animation': 603,\n",
              "  'near': 604,\n",
              "  'team': 605,\n",
              "  'red': 606,\n",
              "  'sister': 607,\n",
              "  'sequel': 608,\n",
              "  'theme': 609,\n",
              "  'dull': 610,\n",
              "  'nearly': 611,\n",
              "  'stand': 612,\n",
              "  'points': 613,\n",
              "  'lee': 614,\n",
              "  'bunch': 615,\n",
              "  'mention': 616,\n",
              "  'feels': 617,\n",
              "  'add': 618,\n",
              "  'york': 619,\n",
              "  'release': 620,\n",
              "  'ways': 621,\n",
              "  'storyline': 622,\n",
              "  'easy': 623,\n",
              "  'using': 624,\n",
              "  'surprised': 625,\n",
              "  'e': 626,\n",
              "  'lots': 627,\n",
              "  'named': 628,\n",
              "  'fantastic': 629,\n",
              "  'begins': 630,\n",
              "  'working': 631,\n",
              "  'die': 632,\n",
              "  'actual': 633,\n",
              "  'effort': 634,\n",
              "  'feature': 635,\n",
              "  'tale': 636,\n",
              "  'hate': 637,\n",
              "  'french': 638,\n",
              "  'minute': 639,\n",
              "  'stay': 640,\n",
              "  'clear': 641,\n",
              "  'tom': 642,\n",
              "  'viewers': 643,\n",
              "  'follow': 644,\n",
              "  'elements': 645,\n",
              "  'among': 646,\n",
              "  'comments': 647,\n",
              "  'typical': 648,\n",
              "  'avoid': 649,\n",
              "  'showing': 650,\n",
              "  'editing': 651,\n",
              "  'tried': 652,\n",
              "  'season': 653,\n",
              "  'famous': 654,\n",
              "  'sorry': 655,\n",
              "  'peter': 656,\n",
              "  'fall': 657,\n",
              "  'dialog': 658,\n",
              "  'period': 659,\n",
              "  'form': 660,\n",
              "  'general': 661,\n",
              "  'certain': 662,\n",
              "  'soundtrack': 663,\n",
              "  'filmed': 664,\n",
              "  'buy': 665,\n",
              "  'parents': 666,\n",
              "  'check': 667,\n",
              "  'means': 668,\n",
              "  'weak': 669,\n",
              "  'material': 670,\n",
              "  'figure': 671,\n",
              "  'realistic': 672,\n",
              "  'doubt': 673,\n",
              "  'somehow': 674,\n",
              "  'crime': 675,\n",
              "  'space': 676,\n",
              "  'gone': 677,\n",
              "  'disney': 678,\n",
              "  'leads': 679,\n",
              "  'kept': 680,\n",
              "  'viewing': 681,\n",
              "  'greatest': 682,\n",
              "  'th': 683,\n",
              "  'dance': 684,\n",
              "  'lame': 685,\n",
              "  'zombie': 686,\n",
              "  'third': 687,\n",
              "  'suspense': 688,\n",
              "  'imagine': 689,\n",
              "  'brought': 690,\n",
              "  'atmosphere': 691,\n",
              "  'hear': 692,\n",
              "  'whatever': 693,\n",
              "  'particular': 694,\n",
              "  'de': 695,\n",
              "  'sequences': 696,\n",
              "  'america': 697,\n",
              "  'move': 698,\n",
              "  'indeed': 699,\n",
              "  'average': 700,\n",
              "  'eventually': 701,\n",
              "  'learn': 702,\n",
              "  'rent': 703,\n",
              "  'note': 704,\n",
              "  'wait': 705,\n",
              "  'deal': 706,\n",
              "  'reviews': 707,\n",
              "  'forget': 708,\n",
              "  'surprise': 709,\n",
              "  'japanese': 710,\n",
              "  'stage': 711,\n",
              "  'poorly': 712,\n",
              "  'premise': 713,\n",
              "  'nature': 714,\n",
              "  'believable': 715,\n",
              "  'sexual': 716,\n",
              "  'subject': 717,\n",
              "  'sit': 718,\n",
              "  'possibly': 719,\n",
              "  'okay': 720,\n",
              "  'decided': 721,\n",
              "  'expected': 722,\n",
              "  'imdb': 723,\n",
              "  'dr': 724,\n",
              "  'truth': 725,\n",
              "  'street': 726,\n",
              "  'free': 727,\n",
              "  'became': 728,\n",
              "  'difficult': 729,\n",
              "  'screenplay': 730,\n",
              "  'romance': 731,\n",
              "  'killing': 732,\n",
              "  'baby': 733,\n",
              "  'joe': 734,\n",
              "  'hot': 735,\n",
              "  'dog': 736,\n",
              "  'reading': 737,\n",
              "  'question': 738,\n",
              "  'needed': 739,\n",
              "  'leaves': 740,\n",
              "  'begin': 741,\n",
              "  'meets': 742,\n",
              "  'unless': 743,\n",
              "  'directors': 744,\n",
              "  'credits': 745,\n",
              "  'society': 746,\n",
              "  'superb': 747,\n",
              "  'shame': 748,\n",
              "  'otherwise': 749,\n",
              "  'write': 750,\n",
              "  'situation': 751,\n",
              "  'meet': 752,\n",
              "  'dramatic': 753,\n",
              "  'memorable': 754,\n",
              "  'male': 755,\n",
              "  'open': 756,\n",
              "  'dream': 757,\n",
              "  'weird': 758,\n",
              "  'badly': 759,\n",
              "  'earlier': 760,\n",
              "  'writers': 761,\n",
              "  'fi': 762,\n",
              "  'forced': 763,\n",
              "  'laughs': 764,\n",
              "  'sci': 765,\n",
              "  'acted': 766,\n",
              "  'emotional': 767,\n",
              "  'crazy': 768,\n",
              "  'jane': 769,\n",
              "  'older': 770,\n",
              "  'beauty': 771,\n",
              "  'monster': 772,\n",
              "  'realize': 773,\n",
              "  'comment': 774,\n",
              "  'deep': 775,\n",
              "  'footage': 776,\n",
              "  'forward': 777,\n",
              "  'interested': 778,\n",
              "  'fantasy': 779,\n",
              "  'ask': 780,\n",
              "  'sounds': 781,\n",
              "  'plus': 782,\n",
              "  'mark': 783,\n",
              "  'directing': 784,\n",
              "  'features': 785,\n",
              "  'keeps': 786,\n",
              "  'development': 787,\n",
              "  'mess': 788,\n",
              "  'quickly': 789,\n",
              "  'air': 790,\n",
              "  'c': 791,\n",
              "  'creepy': 792,\n",
              "  'towards': 793,\n",
              "  'box': 794,\n",
              "  'perfectly': 795,\n",
              "  'girlfriend': 796,\n",
              "  'worked': 797,\n",
              "  'cheesy': 798,\n",
              "  'setting': 799,\n",
              "  'unique': 800,\n",
              "  'bill': 801,\n",
              "  'effect': 802,\n",
              "  'fire': 803,\n",
              "  'plenty': 804,\n",
              "  'result': 805,\n",
              "  'hands': 806,\n",
              "  'total': 807,\n",
              "  'previous': 808,\n",
              "  'brings': 809,\n",
              "  'personal': 810,\n",
              "  'rate': 811,\n",
              "  'incredibly': 812,\n",
              "  'doctor': 813,\n",
              "  'return': 814,\n",
              "  'business': 815,\n",
              "  'christmas': 816,\n",
              "  'joke': 817,\n",
              "  'apart': 818,\n",
              "  'leading': 819,\n",
              "  'casting': 820,\n",
              "  'admit': 821,\n",
              "  'powerful': 822,\n",
              "  'cop': 823,\n",
              "  'appear': 824,\n",
              "  'background': 825,\n",
              "  'boys': 826,\n",
              "  'ben': 827,\n",
              "  'present': 828,\n",
              "  'era': 829,\n",
              "  'battle': 830,\n",
              "  'meant': 831,\n",
              "  'hardly': 832,\n",
              "  'telling': 833,\n",
              "  'potential': 834,\n",
              "  'masterpiece': 835,\n",
              "  'create': 836,\n",
              "  'secret': 837,\n",
              "  'break': 838,\n",
              "  'pay': 839,\n",
              "  'gay': 840,\n",
              "  'dumb': 841,\n",
              "  'political': 842,\n",
              "  'fighting': 843,\n",
              "  'twist': 844,\n",
              "  'fails': 845,\n",
              "  'co': 846,\n",
              "  'various': 847,\n",
              "  'portrayed': 848,\n",
              "  'inside': 849,\n",
              "  'western': 850,\n",
              "  'villain': 851,\n",
              "  'nudity': 852,\n",
              "  'reasons': 853,\n",
              "  'william': 854,\n",
              "  'outside': 855,\n",
              "  'ideas': 856,\n",
              "  'front': 857,\n",
              "  'missing': 858,\n",
              "  'deserves': 859,\n",
              "  'married': 860,\n",
              "  'match': 861,\n",
              "  'expecting': 862,\n",
              "  'rich': 863,\n",
              "  'fairly': 864,\n",
              "  'talented': 865,\n",
              "  'success': 866,\n",
              "  'list': 867,\n",
              "  'unlike': 868,\n",
              "  'scott': 869,\n",
              "  'remake': 870,\n",
              "  'manages': 871,\n",
              "  'attempts': 872,\n",
              "  'odd': 873,\n",
              "  'social': 874,\n",
              "  'cute': 875,\n",
              "  'recently': 876,\n",
              "  'flat': 877,\n",
              "  'sadly': 878,\n",
              "  'copy': 879,\n",
              "  'wrote': 880,\n",
              "  'agree': 881,\n",
              "  'sweet': 882,\n",
              "  'cold': 883,\n",
              "  'crew': 884,\n",
              "  'spoilers': 885,\n",
              "  'plain': 886,\n",
              "  'mary': 887,\n",
              "  'office': 888,\n",
              "  'filmmakers': 889,\n",
              "  'missed': 890,\n",
              "  'following': 891,\n",
              "  'mentioned': 892,\n",
              "  'public': 893,\n",
              "  'gun': 894,\n",
              "  'incredible': 895,\n",
              "  'pure': 896,\n",
              "  'wasted': 897,\n",
              "  'brothers': 898,\n",
              "  'large': 899,\n",
              "  'ended': 900,\n",
              "  'caught': 901,\n",
              "  'revenge': 902,\n",
              "  'produced': 903,\n",
              "  'la': 904,\n",
              "  'members': 905,\n",
              "  'filled': 906,\n",
              "  'pace': 907,\n",
              "  'popular': 908,\n",
              "  'party': 909,\n",
              "  'science': 910,\n",
              "  'waiting': 911,\n",
              "  'water': 912,\n",
              "  'cat': 913,\n",
              "  'decides': 914,\n",
              "  'considering': 915,\n",
              "  'cartoon': 916,\n",
              "  'hold': 917,\n",
              "  'spirit': 918,\n",
              "  'created': 919,\n",
              "  'slightly': 920,\n",
              "  'tension': 921,\n",
              "  'uses': 922,\n",
              "  'convincing': 923,\n",
              "  'escape': 924,\n",
              "  'fear': 925,\n",
              "  'suddenly': 926,\n",
              "  'compared': 927,\n",
              "  'familiar': 928,\n",
              "  'neither': 929,\n",
              "  'sees': 930,\n",
              "  'spent': 931,\n",
              "  'island': 932,\n",
              "  'cause': 933,\n",
              "  'intelligent': 934,\n",
              "  'state': 935,\n",
              "  'clever': 936,\n",
              "  'f': 937,\n",
              "  'entirely': 938,\n",
              "  'credit': 939,\n",
              "  'moves': 940,\n",
              "  'kills': 941,\n",
              "  'bored': 942,\n",
              "  'band': 943,\n",
              "  'dancing': 944,\n",
              "  'language': 945,\n",
              "  'century': 946,\n",
              "  'laughing': 947,\n",
              "  'choice': 948,\n",
              "  'italian': 949,\n",
              "  'cover': 950,\n",
              "  'successful': 951,\n",
              "  'value': 952,\n",
              "  'violent': 953,\n",
              "  'visual': 954,\n",
              "  'trouble': 955,\n",
              "  'speak': 956,\n",
              "  'tony': 957,\n",
              "  'ultimately': 958,\n",
              "  'concept': 959,\n",
              "  'singing': 960,\n",
              "  'store': 961,\n",
              "  'basic': 962,\n",
              "  'zombies': 963,\n",
              "  'positive': 964,\n",
              "  'studio': 965,\n",
              "  'german': 966,\n",
              "  'animated': 967,\n",
              "  'exciting': 968,\n",
              "  'company': 969,\n",
              "  'biggest': 970,\n",
              "  'force': 971,\n",
              "  'consider': 972,\n",
              "  'runs': 973,\n",
              "  'died': 974,\n",
              "  'effective': 975,\n",
              "  'walk': 976,\n",
              "  'depth': 977,\n",
              "  'adventure': 978,\n",
              "  'control': 979,\n",
              "  'law': 980,\n",
              "  'recent': 981,\n",
              "  'adult': 982,\n",
              "  'amusing': 983,\n",
              "  'former': 984,\n",
              "  'focus': 985,\n",
              "  'common': 986,\n",
              "  'spend': 987,\n",
              "  'portrayal': 988,\n",
              "  'rated': 989,\n",
              "  'appreciate': 990,\n",
              "  'hair': 991,\n",
              "  'books': 992,\n",
              "  'pointless': 993,\n",
              "  'trash': 994,\n",
              "  'younger': 995,\n",
              "  'solid': 996,\n",
              "  'planet': 997,\n",
              "  'impressive': 998,\n",
              "  'super': 999,\n",
              "  'tone': 1000,\n",
              "  ...},\n",
              " 'vocab_size': 74066}"
            ]
          },
          "metadata": {
            "tags": []
          },
          "execution_count": 12
        }
      ]
    },
    {
      "cell_type": "markdown",
      "metadata": {
        "id": "GGaj08-JV5iq"
      },
      "source": [
        "## 모델 하이퍼파라메터 정의"
      ]
    },
    {
      "cell_type": "code",
      "metadata": {
        "pycharm": {
          "is_executing": false
        },
        "id": "Ilh9u2HIV5iq"
      },
      "source": [
        "model_name = 'rnn_classifier_en'\n",
        "BATCH_SIZE = 128\n",
        "NUM_EPOCHS = 5\n",
        "VALID_SPLIT = 0.1\n",
        "MAX_LEN = train_input.shape[1]\n",
        "\n",
        "kargs = {'model_name': model_name,\n",
        "        'vocab_size': prepro_configs['vocab_size'],  ## 사전정의된 vocab size\n",
        "        'embedding_dimension': 100,\n",
        "        'dropout_rate': 0.2,\n",
        "        'lstm_dimension': 150,\n",
        "        'dense_dimension': 150,\n",
        "        'output_dimension':1}"
      ],
      "execution_count": 13,
      "outputs": []
    },
    {
      "cell_type": "markdown",
      "metadata": {
        "id": "8WHpHAHKV5iq"
      },
      "source": [
        "## 모델 선언 및 컴파일"
      ]
    },
    {
      "cell_type": "code",
      "metadata": {
        "pycharm": {
          "is_executing": false
        },
        "id": "BKoovTJwV5iq"
      },
      "source": [
        "class RNNClassifier(tf.keras.Model):\n",
        "    def __init__(self, **kargs):                                        # 매개변수로 모델 레이어의 입력 및 출력 차원 수를 정의하는 하이퍼파라미터 정보를 dict 객체로 받는다.\n",
        "        super(RNNClassifier, self).__init__(name=kargs['model_name'])   #super().__init__: 부모클래스의 __init__ 함수를 호출하는 것!  \n",
        "        # 이 __init__함수 인자에 모델 이름을 전달하면 tf.keras.Model을 상속받은 모든 자식은 해당 모델의 이름으로 공통적으로 사용하게 된다.\n",
        "        self.embedding = layers.Embedding(input_dim=kargs['vocab_size'],  # lookup table https://wikidocs.net/33793 \n",
        "                                     output_dim=kargs['embedding_dimension'])\n",
        "        self.lstm_1_layer = tf.keras.layers.LSTM(kargs['lstm_dimension'], return_sequences=True)  #출력 시퀀스를 모두 출력. LSTM 층을 여러개 쌓을 때는 반드시 필요(https://tykimos.github.io/2017/04/09/RNN_Getting_Started/)\n",
        "        self.lstm_2_layer = tf.keras.layers.LSTM(kargs['lstm_dimension'])  #마지막 스텝의 은닉 상태 벡터만 출력\n",
        "        self.dropout = layers.Dropout(kargs['dropout_rate'])\n",
        "        self.fc1 = layers.Dense(units=kargs['dense_dimension'],\n",
        "                           activation=tf.keras.activations.tanh)\n",
        "        self.fc2 = layers.Dense(units=kargs['output_dimension'],\n",
        "                           activation=tf.keras.activations.sigmoid)\n",
        "    \n",
        "    def call(self, x):\n",
        "        x = self.embedding(x)\n",
        "        x = self.dropout(x)\n",
        "        x = self.lstm_1_layer(x)\n",
        "        x = self.lstm_2_layer(x)\n",
        "        x = self.dropout(x)\n",
        "        x = self.fc1(x)\n",
        "        x = self.dropout(x)\n",
        "        x = self.fc2(x)\n",
        "        \n",
        "        return x"
      ],
      "execution_count": 19,
      "outputs": []
    },
    {
      "cell_type": "code",
      "metadata": {
        "id": "PDyZXQSZV5iq"
      },
      "source": [
        "model = RNNClassifier(**kargs)\n",
        "model.compile(optimizer=tf.keras.optimizers.Adam(1e-4),\n",
        "              loss=tf.keras.losses.BinaryCrossentropy(),\n",
        "              metrics=[tf.keras.metrics.BinaryAccuracy(name='accuracy')])"
      ],
      "execution_count": 20,
      "outputs": []
    },
    {
      "cell_type": "markdown",
      "metadata": {
        "id": "sui0T9XEV5iq"
      },
      "source": [
        "## Callback 선언"
      ]
    },
    {
      "cell_type": "code",
      "metadata": {
        "pycharm": {
          "is_executing": false
        },
        "id": "HDsfcYrRV5iq",
        "outputId": "25d8775e-e512-4f82-9139-762e21b6a3dd",
        "colab": {
          "base_uri": "https://localhost:8080/"
        }
      },
      "source": [
        "# overfitting을 막기 위한 ealrystop 추가\n",
        "earlystop_callback = EarlyStopping(monitor='val_accuracy', min_delta=0.0001, patience=1)\n",
        "# min_delta: the threshold that triggers the termination (acc should at least improve 0.0001)\n",
        "# patience: no improvment epochs (patience = 1, 1번 이상 상승이 없으면 종료)\n",
        "\n",
        "checkpoint_path = DATA_OUT_PATH + model_name + '/weights.h5'\n",
        "checkpoint_dir = os.path.dirname(checkpoint_path)\n",
        "\n",
        "# Create path if exists\n",
        "if os.path.exists(checkpoint_dir):\n",
        "    print(\"{} -- Folder already exists \\n\".format(checkpoint_dir))\n",
        "else:\n",
        "    os.makedirs(checkpoint_dir, exist_ok=True)\n",
        "    print(\"{} -- Folder create complete \\n\".format(checkpoint_dir))\n",
        "    \n",
        "\n",
        "cp_callback = ModelCheckpoint(\n",
        "    checkpoint_path, monitor='val_accuracy', verbose=1, save_best_only=True, save_weights_only=True)"
      ],
      "execution_count": 21,
      "outputs": [
        {
          "output_type": "stream",
          "text": [
            "./data_out/rnn_classifier_en -- Folder create complete \n",
            "\n"
          ],
          "name": "stdout"
        }
      ]
    },
    {
      "cell_type": "markdown",
      "metadata": {
        "id": "Bb6OEv1QV5ir"
      },
      "source": [
        "## 모델 학습"
      ]
    },
    {
      "cell_type": "code",
      "metadata": {
        "id": "O6Zl0o_ZV5ir",
        "outputId": "666bf64d-0e12-463c-f6bc-4f82ad2726e8",
        "colab": {
          "base_uri": "https://localhost:8080/"
        }
      },
      "source": [
        "history = model.fit(train_input, train_label, batch_size=BATCH_SIZE, epochs=NUM_EPOCHS,\n",
        "                    validation_split=VALID_SPLIT, callbacks=[earlystop_callback, cp_callback])"
      ],
      "execution_count": 22,
      "outputs": [
        {
          "output_type": "stream",
          "text": [
            "Epoch 1/5\n",
            "176/176 [==============================] - ETA: 0s - loss: 0.6931 - accuracy: 0.5053\n",
            "Epoch 00001: val_accuracy improved from -inf to 0.50960, saving model to ./data_out/rnn_classifier_en/weights.h5\n",
            "176/176 [==============================] - 286s 2s/step - loss: 0.6931 - accuracy: 0.5053 - val_loss: 0.6929 - val_accuracy: 0.5096\n",
            "Epoch 2/5\n",
            "176/176 [==============================] - ETA: 0s - loss: 0.6805 - accuracy: 0.5345\n",
            "Epoch 00002: val_accuracy improved from 0.50960 to 0.75760, saving model to ./data_out/rnn_classifier_en/weights.h5\n",
            "176/176 [==============================] - 291s 2s/step - loss: 0.6805 - accuracy: 0.5345 - val_loss: 0.4860 - val_accuracy: 0.7576\n",
            "Epoch 3/5\n",
            "176/176 [==============================] - ETA: 0s - loss: 0.3408 - accuracy: 0.8566\n",
            "Epoch 00003: val_accuracy improved from 0.75760 to 0.88440, saving model to ./data_out/rnn_classifier_en/weights.h5\n",
            "176/176 [==============================] - 293s 2s/step - loss: 0.3408 - accuracy: 0.8566 - val_loss: 0.2773 - val_accuracy: 0.8844\n",
            "Epoch 4/5\n",
            "176/176 [==============================] - ETA: 0s - loss: 0.1876 - accuracy: 0.9303\n",
            "Epoch 00004: val_accuracy improved from 0.88440 to 0.88880, saving model to ./data_out/rnn_classifier_en/weights.h5\n",
            "176/176 [==============================] - 289s 2s/step - loss: 0.1876 - accuracy: 0.9303 - val_loss: 0.2783 - val_accuracy: 0.8888\n",
            "Epoch 5/5\n",
            "176/176 [==============================] - ETA: 0s - loss: 0.1291 - accuracy: 0.9576\n",
            "Epoch 00005: val_accuracy did not improve from 0.88880\n",
            "176/176 [==============================] - 287s 2s/step - loss: 0.1291 - accuracy: 0.9576 - val_loss: 0.2997 - val_accuracy: 0.8872\n"
          ],
          "name": "stdout"
        }
      ]
    },
    {
      "cell_type": "markdown",
      "metadata": {
        "id": "6mYn6KzTV5ir"
      },
      "source": [
        "## 결과 플롯"
      ]
    },
    {
      "cell_type": "code",
      "metadata": {
        "pycharm": {
          "is_executing": false
        },
        "id": "TnAR4ty_V5ir",
        "outputId": "6d4de2b7-328a-4897-a93a-e3b7736b7743",
        "colab": {
          "base_uri": "https://localhost:8080/",
          "height": 279
        }
      },
      "source": [
        "plot_graphs(history, 'accuracy')"
      ],
      "execution_count": 23,
      "outputs": [
        {
          "output_type": "display_data",
          "data": {
            "image/png": "[encoded data removed]",
            "text/plain": [
              "<Figure size 432x288 with 1 Axes>"
            ]
          },
          "metadata": {
            "tags": [],
            "needs_background": "light"
          }
        }
      ]
    },
    {
      "cell_type": "code",
      "metadata": {
        "pycharm": {
          "is_executing": false
        },
        "id": "besE3oEPV5ir",
        "outputId": "4c8f6fef-5e6a-435d-a7bf-d9baf31afcb5",
        "colab": {
          "base_uri": "https://localhost:8080/",
          "height": 279
        }
      },
      "source": [
        "plot_graphs(history, 'loss')"
      ],
      "execution_count": 24,
      "outputs": [
        {
          "output_type": "display_data",
          "data": {
            "image/png": "[encoded data removed]",
            "text/plain": [
              "<Figure size 432x288 with 1 Axes>"
            ]
          },
          "metadata": {
            "tags": [],
            "needs_background": "light"
          }
        }
      ]
    },
    {
      "cell_type": "markdown",
      "metadata": {
        "id": "pSHRnD_uV5ir"
      },
      "source": [
        "## 테스트 데이터 불러오기"
      ]
    },
    {
      "cell_type": "code",
      "metadata": {
        "pycharm": {
          "is_executing": false
        },
        "id": "CfCUbDVGV5ir"
      },
      "source": [
        "DATA_OUT_PATH = './data_out/'\n",
        "TEST_INPUT_DATA = 'test_input.npy'\n",
        "TEST_ID_DATA = 'test_id.npy'\n",
        "\n",
        "\n",
        "test_input = np.load(open(DATA_IN_PATH + TEST_INPUT_DATA, 'rb'))\n",
        "test_input = pad_sequences(test_input, maxlen=test_input.shape[1])"
      ],
      "execution_count": null,
      "outputs": []
    },
    {
      "cell_type": "markdown",
      "metadata": {
        "id": "JxJH8ghZV5ir"
      },
      "source": [
        "## 베스트 모델 불러오기"
      ]
    },
    {
      "cell_type": "code",
      "metadata": {
        "id": "PUto-NmCV5ir"
      },
      "source": [
        "SAVE_FILE_NM = 'weights.h5'\n",
        "\n",
        "model.load_weights(os.path.join(DATA_OUT_PATH, model_name, SAVE_FILE_NM))"
      ],
      "execution_count": null,
      "outputs": []
    },
    {
      "cell_type": "markdown",
      "metadata": {
        "id": "Nn3PqS6RV5ir"
      },
      "source": [
        "## 테스트 데이터 예측하기"
      ]
    },
    {
      "cell_type": "code",
      "metadata": {
        "id": "1YI6I5ObV5ir"
      },
      "source": [
        "predictions = model.predict(test_input, batch_size=BATCH_SIZE)\n",
        "predictions = predictions.squeeze(-1)"
      ],
      "execution_count": null,
      "outputs": []
    },
    {
      "cell_type": "code",
      "metadata": {
        "pycharm": {
          "is_executing": false
        },
        "id": "2TI4RTHqV5ir"
      },
      "source": [
        "test_id = np.load(open(DATA_IN_PATH + TEST_ID_DATA, 'rb'), allow_pickle=True)\n",
        "\n",
        "if not os.path.exists(DATA_OUT_PATH):\n",
        "    os.makedirs(DATA_OUT_PATH)\n",
        "\n",
        "output = pd.DataFrame(data={\"id\": list(test_id), \"sentiment\":list(predictions)})\n",
        "output.to_csv(DATA_OUT_PATH + 'movie_review_result_rnn.csv', index=False, quoting=3)"
      ],
      "execution_count": null,
      "outputs": []
    }
  ]
}