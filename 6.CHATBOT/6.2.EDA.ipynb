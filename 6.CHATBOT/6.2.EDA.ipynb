{
  "nbformat": 4,
  "nbformat_minor": 0,
  "metadata": {
    "kernelspec": {
      "display_name": "Python 3",
      "language": "python",
      "name": "python3"
    },
    "language_info": {
      "codemirror_mode": {
        "name": "ipython",
        "version": 3
      },
      "file_extension": ".py",
      "mimetype": "text/x-python",
      "name": "python",
      "nbconvert_exporter": "python",
      "pygments_lexer": "ipython3",
      "version": "3.6.8"
    },
    "colab": {
      "name": "6.2.EDA.ipynb",
      "provenance": []
    }
  },
  "cells": [
    {
      "cell_type": "code",
      "metadata": {
        "id": "UGc_MJCiKMk9",
        "outputId": "085b96c7-1988-4c0c-cf1f-afa3e1d0a642",
        "colab": {
          "base_uri": "https://localhost:8080/"
        }
      },
      "source": [
        "from google.colab import drive\n",
        "drive.mount('/content/drive')"
      ],
      "execution_count": 1,
      "outputs": [
        {
          "output_type": "stream",
          "text": [
            "Mounted at /content/drive\n"
          ],
          "name": "stdout"
        }
      ]
    },
    {
      "cell_type": "code",
      "metadata": {
        "id": "dadEmrXzKUKC",
        "outputId": "0b5d1524-da6c-4cf9-b6fc-8720ba238ef9",
        "colab": {
          "base_uri": "https://localhost:8080/",
          "height": 35
        }
      },
      "source": [
        "import os\n",
        "os.chdir('/content/drive/MyDrive/DataCollection/tensorflow-ml-nlp-tf2/6.CHATBOT')\n",
        "os.getcwd()"
      ],
      "execution_count": 2,
      "outputs": [
        {
          "output_type": "execute_result",
          "data": {
            "application/vnd.google.colaboratory.intrinsic+json": {
              "type": "string"
            },
            "text/plain": [
              "'/content/drive/MyDrive/DataCollection/tensorflow-ml-nlp-tf2/6.CHATBOT'"
            ]
          },
          "metadata": {
            "tags": []
          },
          "execution_count": 2
        }
      ]
    },
    {
      "cell_type": "code",
      "metadata": {
        "id": "8NZefaIlL_AR",
        "outputId": "d82fac38-6b29-4b4c-eb2c-48478661f453",
        "colab": {
          "base_uri": "https://localhost:8080/"
        }
      },
      "source": [
        "!pip install konlpy"
      ],
      "execution_count": 5,
      "outputs": [
        {
          "output_type": "stream",
          "text": [
            "Collecting konlpy\n",
            "\u001b[?25l  Downloading https://files.pythonhosted.org/packages/85/0e/f385566fec837c0b83f216b2da65db9997b35dd675e107752005b7d392b1/konlpy-0.5.2-py2.py3-none-any.whl (19.4MB)\n",
            "\u001b[K     |████████████████████████████████| 19.4MB 57.2MB/s \n",
            "\u001b[?25hRequirement already satisfied: numpy>=1.6 in /usr/local/lib/python3.6/dist-packages (from konlpy) (1.19.4)\n",
            "Requirement already satisfied: lxml>=4.1.0 in /usr/local/lib/python3.6/dist-packages (from konlpy) (4.2.6)\n",
            "Collecting beautifulsoup4==4.6.0\n",
            "\u001b[?25l  Downloading https://files.pythonhosted.org/packages/9e/d4/10f46e5cfac773e22707237bfcd51bbffeaf0a576b0a847ec7ab15bd7ace/beautifulsoup4-4.6.0-py3-none-any.whl (86kB)\n",
            "\u001b[K     |████████████████████████████████| 92kB 8.6MB/s \n",
            "\u001b[?25hCollecting JPype1>=0.7.0\n",
            "\u001b[?25l  Downloading https://files.pythonhosted.org/packages/b7/21/9e2c0dbf9df856e6392a1aec1d18006c60b175aa4e31d351e8278a8a63c0/JPype1-1.2.0-cp36-cp36m-manylinux2010_x86_64.whl (453kB)\n",
            "\u001b[K     |████████████████████████████████| 460kB 40.3MB/s \n",
            "\u001b[?25hCollecting tweepy>=3.7.0\n",
            "  Downloading https://files.pythonhosted.org/packages/67/c3/6bed87f3b1e5ed2f34bd58bf7978e308c86e255193916be76e5a5ce5dfca/tweepy-3.10.0-py2.py3-none-any.whl\n",
            "Collecting colorama\n",
            "  Downloading https://files.pythonhosted.org/packages/44/98/5b86278fbbf250d239ae0ecb724f8572af1c91f4a11edf4d36a206189440/colorama-0.4.4-py2.py3-none-any.whl\n",
            "Requirement already satisfied: typing-extensions; python_version < \"3.8\" in /usr/local/lib/python3.6/dist-packages (from JPype1>=0.7.0->konlpy) (3.7.4.3)\n",
            "Requirement already satisfied: six>=1.10.0 in /usr/local/lib/python3.6/dist-packages (from tweepy>=3.7.0->konlpy) (1.15.0)\n",
            "Requirement already satisfied: requests-oauthlib>=0.7.0 in /usr/local/lib/python3.6/dist-packages (from tweepy>=3.7.0->konlpy) (1.3.0)\n",
            "Requirement already satisfied: requests[socks]>=2.11.1 in /usr/local/lib/python3.6/dist-packages (from tweepy>=3.7.0->konlpy) (2.23.0)\n",
            "Requirement already satisfied: oauthlib>=3.0.0 in /usr/local/lib/python3.6/dist-packages (from requests-oauthlib>=0.7.0->tweepy>=3.7.0->konlpy) (3.1.0)\n",
            "Requirement already satisfied: certifi>=2017.4.17 in /usr/local/lib/python3.6/dist-packages (from requests[socks]>=2.11.1->tweepy>=3.7.0->konlpy) (2020.12.5)\n",
            "Requirement already satisfied: chardet<4,>=3.0.2 in /usr/local/lib/python3.6/dist-packages (from requests[socks]>=2.11.1->tweepy>=3.7.0->konlpy) (3.0.4)\n",
            "Requirement already satisfied: idna<3,>=2.5 in /usr/local/lib/python3.6/dist-packages (from requests[socks]>=2.11.1->tweepy>=3.7.0->konlpy) (2.10)\n",
            "Requirement already satisfied: urllib3!=1.25.0,!=1.25.1,<1.26,>=1.21.1 in /usr/local/lib/python3.6/dist-packages (from requests[socks]>=2.11.1->tweepy>=3.7.0->konlpy) (1.24.3)\n",
            "Requirement already satisfied: PySocks!=1.5.7,>=1.5.6; extra == \"socks\" in /usr/local/lib/python3.6/dist-packages (from requests[socks]>=2.11.1->tweepy>=3.7.0->konlpy) (1.7.1)\n",
            "Installing collected packages: beautifulsoup4, JPype1, tweepy, colorama, konlpy\n",
            "  Found existing installation: beautifulsoup4 4.6.3\n",
            "    Uninstalling beautifulsoup4-4.6.3:\n",
            "      Successfully uninstalled beautifulsoup4-4.6.3\n",
            "  Found existing installation: tweepy 3.6.0\n",
            "    Uninstalling tweepy-3.6.0:\n",
            "      Successfully uninstalled tweepy-3.6.0\n",
            "Successfully installed JPype1-1.2.0 beautifulsoup4-4.6.0 colorama-0.4.4 konlpy-0.5.2 tweepy-3.10.0\n"
          ],
          "name": "stdout"
        }
      ]
    },
    {
      "cell_type": "code",
      "metadata": {
        "id": "ShqYNRiUKDn_"
      },
      "source": [
        "import pandas as pd\n",
        "import numpy as np\n",
        "import matplotlib.pyplot as plt\n",
        "\n",
        "from collections import Counter\n",
        "\n",
        "from konlpy.tag import Okt\n",
        "\n",
        "from functools import reduce\n",
        "from wordcloud import WordCloud"
      ],
      "execution_count": 6,
      "outputs": []
    },
    {
      "cell_type": "code",
      "metadata": {
        "id": "y_JPqQf4KDoE"
      },
      "source": [
        "DATA_IN_PATH = './data_in/'"
      ],
      "execution_count": 7,
      "outputs": []
    },
    {
      "cell_type": "code",
      "metadata": {
        "id": "yl5PyGJhKDoF"
      },
      "source": [
        "data = pd.read_csv(DATA_IN_PATH + 'ChatBotData.csv', encoding='utf-8')"
      ],
      "execution_count": 8,
      "outputs": []
    },
    {
      "cell_type": "code",
      "metadata": {
        "id": "uTlyPJZVKDoF",
        "outputId": "cc81837e-9d31-4b61-b6a5-e92fbeb81333",
        "colab": {
          "base_uri": "https://localhost:8080/",
          "height": 419
        }
      },
      "source": [
        "data"
      ],
      "execution_count": 9,
      "outputs": [
        {
          "output_type": "execute_result",
          "data": {
            "text/html": [
              "<div>\n",
              "<style scoped>\n",
              "    .dataframe tbody tr th:only-of-type {\n",
              "        vertical-align: middle;\n",
              "    }\n",
              "\n",
              "    .dataframe tbody tr th {\n",
              "        vertical-align: top;\n",
              "    }\n",
              "\n",
              "    .dataframe thead th {\n",
              "        text-align: right;\n",
              "    }\n",
              "</style>\n",
              "<table border=\"1\" class=\"dataframe\">\n",
              "  <thead>\n",
              "    <tr style=\"text-align: right;\">\n",
              "      <th></th>\n",
              "      <th>Q</th>\n",
              "      <th>A</th>\n",
              "      <th>label</th>\n",
              "    </tr>\n",
              "  </thead>\n",
              "  <tbody>\n",
              "    <tr>\n",
              "      <th>0</th>\n",
              "      <td>12시 땡!</td>\n",
              "      <td>하루가 또 가네요.</td>\n",
              "      <td>0</td>\n",
              "    </tr>\n",
              "    <tr>\n",
              "      <th>1</th>\n",
              "      <td>1지망 학교 떨어졌어</td>\n",
              "      <td>위로해 드립니다.</td>\n",
              "      <td>0</td>\n",
              "    </tr>\n",
              "    <tr>\n",
              "      <th>2</th>\n",
              "      <td>3박4일 놀러가고 싶다</td>\n",
              "      <td>여행은 언제나 좋죠.</td>\n",
              "      <td>0</td>\n",
              "    </tr>\n",
              "    <tr>\n",
              "      <th>3</th>\n",
              "      <td>3박4일 정도 놀러가고 싶다</td>\n",
              "      <td>여행은 언제나 좋죠.</td>\n",
              "      <td>0</td>\n",
              "    </tr>\n",
              "    <tr>\n",
              "      <th>4</th>\n",
              "      <td>PPL 심하네</td>\n",
              "      <td>눈살이 찌푸려지죠.</td>\n",
              "      <td>0</td>\n",
              "    </tr>\n",
              "    <tr>\n",
              "      <th>...</th>\n",
              "      <td>...</td>\n",
              "      <td>...</td>\n",
              "      <td>...</td>\n",
              "    </tr>\n",
              "    <tr>\n",
              "      <th>11818</th>\n",
              "      <td>훔쳐보는 것도 눈치 보임.</td>\n",
              "      <td>티가 나니까 눈치가 보이는 거죠!</td>\n",
              "      <td>2</td>\n",
              "    </tr>\n",
              "    <tr>\n",
              "      <th>11819</th>\n",
              "      <td>훔쳐보는 것도 눈치 보임.</td>\n",
              "      <td>훔쳐보는 거 티나나봐요.</td>\n",
              "      <td>2</td>\n",
              "    </tr>\n",
              "    <tr>\n",
              "      <th>11820</th>\n",
              "      <td>흑기사 해주는 짝남.</td>\n",
              "      <td>설렜겠어요.</td>\n",
              "      <td>2</td>\n",
              "    </tr>\n",
              "    <tr>\n",
              "      <th>11821</th>\n",
              "      <td>힘든 연애 좋은 연애라는게 무슨 차이일까?</td>\n",
              "      <td>잘 헤어질 수 있는 사이 여부인 거 같아요.</td>\n",
              "      <td>2</td>\n",
              "    </tr>\n",
              "    <tr>\n",
              "      <th>11822</th>\n",
              "      <td>힘들어서 결혼할까봐</td>\n",
              "      <td>도피성 결혼은 하지 않길 바라요.</td>\n",
              "      <td>2</td>\n",
              "    </tr>\n",
              "  </tbody>\n",
              "</table>\n",
              "<p>11823 rows × 3 columns</p>\n",
              "</div>"
            ],
            "text/plain": [
              "                             Q                         A  label\n",
              "0                       12시 땡!                하루가 또 가네요.      0\n",
              "1                  1지망 학교 떨어졌어                 위로해 드립니다.      0\n",
              "2                 3박4일 놀러가고 싶다               여행은 언제나 좋죠.      0\n",
              "3              3박4일 정도 놀러가고 싶다               여행은 언제나 좋죠.      0\n",
              "4                      PPL 심하네                눈살이 찌푸려지죠.      0\n",
              "...                        ...                       ...    ...\n",
              "11818           훔쳐보는 것도 눈치 보임.        티가 나니까 눈치가 보이는 거죠!      2\n",
              "11819           훔쳐보는 것도 눈치 보임.             훔쳐보는 거 티나나봐요.      2\n",
              "11820              흑기사 해주는 짝남.                    설렜겠어요.      2\n",
              "11821  힘든 연애 좋은 연애라는게 무슨 차이일까?  잘 헤어질 수 있는 사이 여부인 거 같아요.      2\n",
              "11822               힘들어서 결혼할까봐        도피성 결혼은 하지 않길 바라요.      2\n",
              "\n",
              "[11823 rows x 3 columns]"
            ]
          },
          "metadata": {
            "tags": []
          },
          "execution_count": 9
        }
      ]
    },
    {
      "cell_type": "code",
      "metadata": {
        "scrolled": true,
        "id": "RelxvLYJKDoF",
        "outputId": "6efdd272-50aa-483f-9d21-d7fad0264f5a",
        "colab": {
          "base_uri": "https://localhost:8080/"
        }
      },
      "source": [
        "print(data.head())"
      ],
      "execution_count": 10,
      "outputs": [
        {
          "output_type": "stream",
          "text": [
            "                 Q            A  label\n",
            "0           12시 땡!   하루가 또 가네요.      0\n",
            "1      1지망 학교 떨어졌어    위로해 드립니다.      0\n",
            "2     3박4일 놀러가고 싶다  여행은 언제나 좋죠.      0\n",
            "3  3박4일 정도 놀러가고 싶다  여행은 언제나 좋죠.      0\n",
            "4          PPL 심하네   눈살이 찌푸려지죠.      0\n"
          ],
          "name": "stdout"
        }
      ]
    },
    {
      "cell_type": "code",
      "metadata": {
        "id": "yF8plUAGKDoF"
      },
      "source": [
        "sentences = list(data['Q']) + list(data['A'])"
      ],
      "execution_count": 11,
      "outputs": []
    },
    {
      "cell_type": "code",
      "metadata": {
        "id": "Ssb70TBMO7jX",
        "outputId": "a6046aa0-727a-4e69-b539-bf30ed3ca204",
        "colab": {
          "base_uri": "https://localhost:8080/",
          "height": 52
        }
      },
      "source": [
        "print(sentences[0])\n",
        "sentences[11823]\n"
      ],
      "execution_count": 14,
      "outputs": [
        {
          "output_type": "stream",
          "text": [
            "12시 땡!\n"
          ],
          "name": "stdout"
        },
        {
          "output_type": "execute_result",
          "data": {
            "application/vnd.google.colaboratory.intrinsic+json": {
              "type": "string"
            },
            "text/plain": [
              "'하루가 또 가네요.'"
            ]
          },
          "metadata": {
            "tags": []
          },
          "execution_count": 14
        }
      ]
    },
    {
      "cell_type": "code",
      "metadata": {
        "id": "YXztxS6aKDoG"
      },
      "source": [
        "tokenized_sentences = [s.split() for s in sentences]   ## split by spacing\n",
        "sent_len_by_token = [len(t) for t in tokenized_sentences]\n",
        "sent_len_by_eumjeol = [len(s.replace(' ', '')) for s in sentences] # removing the spacing\n",
        "\n",
        "okt = Okt()\n",
        "\n",
        "# morph_tokenized_sentences = [okt.morphs(s.replace(' ', '')) for s in sentences] ## replace 단계는 필요없어보여 아래로 수정함.\n",
        "morph_tokenized_sentences = [okt.morphs(s) for s in sentences]\n",
        "sent_len_by_morph = [len(t) for t in morph_tokenized_sentences]"
      ],
      "execution_count": 19,
      "outputs": []
    },
    {
      "cell_type": "markdown",
      "metadata": {
        "id": "Z6rGtCyhQhZT"
      },
      "source": [
        "- 아래 두 줄은 replace 단계가 필요없음을 확인하기 위해 실행."
      ]
    },
    {
      "cell_type": "code",
      "metadata": {
        "id": "V60hTX33QUjI",
        "outputId": "7a7a3a87-69f3-42d3-e21e-fa07302adc28",
        "colab": {
          "base_uri": "https://localhost:8080/"
        }
      },
      "source": [
        "okt.morphs(sentences[11823])"
      ],
      "execution_count": 20,
      "outputs": [
        {
          "output_type": "execute_result",
          "data": {
            "text/plain": [
              "['하루', '가', '또', '가네요', '.']"
            ]
          },
          "metadata": {
            "tags": []
          },
          "execution_count": 20
        }
      ]
    },
    {
      "cell_type": "code",
      "metadata": {
        "id": "1-Jg8rE8QNbo",
        "outputId": "c8f723b5-ea3b-4458-b372-7a6bddc66d3a",
        "colab": {
          "base_uri": "https://localhost:8080/"
        }
      },
      "source": [
        "okt.morphs(sentences[11823].replace(' ', ''))"
      ],
      "execution_count": 21,
      "outputs": [
        {
          "output_type": "execute_result",
          "data": {
            "text/plain": [
              "['하루', '가', '또', '가네요', '.']"
            ]
          },
          "metadata": {
            "tags": []
          },
          "execution_count": 21
        }
      ]
    },
    {
      "cell_type": "code",
      "metadata": {
        "id": "2_VtViVaKDoG",
        "outputId": "67af710f-4a5b-4a57-d9b8-3b529643effa",
        "colab": {
          "base_uri": "https://localhost:8080/",
          "height": 367
        }
      },
      "source": [
        "plt.figure(figsize=(12, 5))\n",
        "plt.hist(sent_len_by_token, bins=50, range=[0,50], alpha=0.5, color= 'r', label='eojeol')\n",
        "plt.hist(sent_len_by_morph, bins=50, range=[0,50], alpha=0.5, color='g', label='morph')\n",
        "plt.hist(sent_len_by_eumjeol, bins=50, range=[0,50], alpha=0.5, color='b', label='eumjeol')\n",
        "plt.title('Sentence Length Histogram')\n",
        "plt.xlabel('Sentence Length')\n",
        "plt.ylabel('Number of Sentences')"
      ],
      "execution_count": 22,
      "outputs": [
        {
          "output_type": "execute_result",
          "data": {
            "text/plain": [
              "Text(0, 0.5, 'Number of Sentences')"
            ]
          },
          "metadata": {
            "tags": []
          },
          "execution_count": 22
        },
        {
          "output_type": "display_data",
          "data": {
            "image/png": "[encoded data removed]",
            "text/plain": [
              "<Figure size 864x360 with 1 Axes>"
            ]
          },
          "metadata": {
            "tags": [],
            "needs_background": "light"
          }
        }
      ]
    },
    {
      "cell_type": "code",
      "metadata": {
        "id": "GVDOkNitKDoG",
        "outputId": "61ea26a4-905e-4048-a18d-ef0faa999d2d",
        "colab": {
          "base_uri": "https://localhost:8080/",
          "height": 367
        }
      },
      "source": [
        "plt.figure(figsize=(12, 5))\n",
        "plt.hist(sent_len_by_token, bins=50, range=[0,50], alpha=0.5, color= 'r', label='eojeol')\n",
        "plt.hist(sent_len_by_morph, bins=50, range=[0,50], alpha=0.5, color='g', label='morph')\n",
        "plt.hist(sent_len_by_eumjeol, bins=50, range=[0,50], alpha=0.5, color='b', label='eumjeol')\n",
        "plt.yscale('log')  ## log scale을 통해 y value를 조절. 각 분포의 tail을 확인 가능.\n",
        "plt.title('Sentence Length Histogram by Eojeol Token')\n",
        "plt.xlabel('Sentence Length')\n",
        "plt.ylabel('Number of Sentences')"
      ],
      "execution_count": 23,
      "outputs": [
        {
          "output_type": "execute_result",
          "data": {
            "text/plain": [
              "Text(0, 0.5, 'Number of Sentences')"
            ]
          },
          "metadata": {
            "tags": []
          },
          "execution_count": 23
        },
        {
          "output_type": "display_data",
          "data": {
            "image/png": "[encoded data removed]",
            "text/plain": [
              "<Figure size 864x360 with 1 Axes>"
            ]
          },
          "metadata": {
            "tags": [],
            "needs_background": "light"
          }
        }
      ]
    },
    {
      "cell_type": "code",
      "metadata": {
        "id": "KZc7ZoYAKDoH",
        "outputId": "3bdfad3a-7e5f-4c8f-d86b-0280c37c15e6",
        "colab": {
          "base_uri": "https://localhost:8080/"
        }
      },
      "source": [
        "print('어절 최대길이: {}'.format(np.max(sent_len_by_token)))\n",
        "print('어절 최소길이: {}'.format(np.min(sent_len_by_token)))\n",
        "print('어절 평균길이: {:.2f}'.format(np.mean(sent_len_by_token)))\n",
        "print('어절 길이 표준편차: {:.2f}'.format(np.std(sent_len_by_token)))\n",
        "print('어절 중간길이: {}'.format(np.median(sent_len_by_token)))\n",
        "print('제 1 사분위 길이: {}'.format(np.percentile(sent_len_by_token, 25)))\n",
        "print('제 3 사분위 길이: {}'.format(np.percentile(sent_len_by_token, 75)))"
      ],
      "execution_count": 24,
      "outputs": [
        {
          "output_type": "stream",
          "text": [
            "어절 최대길이: 21\n",
            "어절 최소길이: 1\n",
            "어절 평균길이: 3.64\n",
            "어절 길이 표준편차: 1.74\n",
            "어절 중간길이: 3.0\n",
            "제 1 사분위 길이: 2.0\n",
            "제 3 사분위 길이: 5.0\n"
          ],
          "name": "stdout"
        }
      ]
    },
    {
      "cell_type": "code",
      "metadata": {
        "id": "QLVK4UUfKDoH",
        "outputId": "6d5b1b25-4908-4b29-c293-38ebabdd2003",
        "colab": {
          "base_uri": "https://localhost:8080/"
        }
      },
      "source": [
        "print('형태소 최대길이: {}'.format(np.max(sent_len_by_morph)))\n",
        "print('형태소 최소길이: {}'.format(np.min(sent_len_by_morph)))\n",
        "print('형태소 평균길이: {:.2f}'.format(np.mean(sent_len_by_morph)))\n",
        "print('형태소 길이 표준편차: {:.2f}'.format(np.std(sent_len_by_morph)))\n",
        "print('형태소 중간길이: {}'.format(np.median(sent_len_by_morph)))\n",
        "print('형태소 1/4 퍼센타일 길이: {}'.format(np.percentile(sent_len_by_morph, 25)))\n",
        "print('형태소 3/4 퍼센타일 길이: {}'.format(np.percentile(sent_len_by_morph, 75)))"
      ],
      "execution_count": 25,
      "outputs": [
        {
          "output_type": "stream",
          "text": [
            "형태소 최대길이: 31\n",
            "형태소 최소길이: 1\n",
            "형태소 평균길이: 5.83\n",
            "형태소 길이 표준편차: 2.71\n",
            "형태소 중간길이: 5.0\n",
            "형태소 1/4 퍼센타일 길이: 4.0\n",
            "형태소 3/4 퍼센타일 길이: 7.0\n"
          ],
          "name": "stdout"
        }
      ]
    },
    {
      "cell_type": "code",
      "metadata": {
        "id": "PD13qgWJKDoI",
        "outputId": "6c2b7787-8466-4ef9-818f-77c850ceadba",
        "colab": {
          "base_uri": "https://localhost:8080/"
        }
      },
      "source": [
        "print('음절 최대길이: {}'.format(np.max(sent_len_by_eumjeol)))\n",
        "print('음절 최소길이: {}'.format(np.min(sent_len_by_eumjeol)))\n",
        "print('음절 평균길이: {:.2f}'.format(np.mean(sent_len_by_eumjeol)))\n",
        "print('음절 길이 표준편차: {:.2f}'.format(np.std(sent_len_by_eumjeol)))\n",
        "print('음절 중간길이: {}'.format(np.median(sent_len_by_eumjeol)))\n",
        "print('음절 1/4 퍼센타일 길이: {}'.format(np.percentile(sent_len_by_eumjeol, 25)))\n",
        "print('음절 3/4 퍼센타일 길이: {}'.format(np.percentile(sent_len_by_eumjeol, 75)))"
      ],
      "execution_count": 26,
      "outputs": [
        {
          "output_type": "stream",
          "text": [
            "음절 최대길이: 57\n",
            "음절 최소길이: 1\n",
            "음절 평균길이: 11.31\n",
            "음절 길이 표준편차: 4.98\n",
            "음절 중간길이: 10.0\n",
            "음절 1/4 퍼센타일 길이: 8.0\n",
            "음절 3/4 퍼센타일 길이: 14.0\n"
          ],
          "name": "stdout"
        }
      ]
    },
    {
      "cell_type": "code",
      "metadata": {
        "id": "IPjbpib1KDoI",
        "outputId": "a8810936-1eb9-4ec2-d12f-8b1e89e55ab4",
        "colab": {
          "base_uri": "https://localhost:8080/",
          "height": 728
        }
      },
      "source": [
        "plt.figure(figsize=(12, 5))\n",
        "plt.boxplot([sent_len_by_token, sent_len_by_morph, sent_len_by_eumjeol],\n",
        "            labels=['Eojeol', 'Morph', 'Eumjeol'], \n",
        "            showmeans=True)"
      ],
      "execution_count": 27,
      "outputs": [
        {
          "output_type": "execute_result",
          "data": {
            "text/plain": [
              "{'boxes': [<matplotlib.lines.Line2D at 0x7f37510d3198>,\n",
              "  <matplotlib.lines.Line2D at 0x7f37510ddda0>,\n",
              "  <matplotlib.lines.Line2D at 0x7f37511089e8>],\n",
              " 'caps': [<matplotlib.lines.Line2D at 0x7f37510d3ba8>,\n",
              "  <matplotlib.lines.Line2D at 0x7f37510d3f28>,\n",
              "  <matplotlib.lines.Line2D at 0x7f37510da860>,\n",
              "  <matplotlib.lines.Line2D at 0x7f37510dabe0>,\n",
              "  <matplotlib.lines.Line2D at 0x7f37510914e0>,\n",
              "  <matplotlib.lines.Line2D at 0x7f3751091860>],\n",
              " 'fliers': [<matplotlib.lines.Line2D at 0x7f37510dd9b0>,\n",
              "  <matplotlib.lines.Line2D at 0x7f3751108668>,\n",
              "  <matplotlib.lines.Line2D at 0x7f375109b2e8>],\n",
              " 'means': [<matplotlib.lines.Line2D at 0x7f37510dd668>,\n",
              "  <matplotlib.lines.Line2D at 0x7f3751108320>,\n",
              "  <matplotlib.lines.Line2D at 0x7f3751091f60>],\n",
              " 'medians': [<matplotlib.lines.Line2D at 0x7f37510dd2e8>,\n",
              "  <matplotlib.lines.Line2D at 0x7f37510daf60>,\n",
              "  <matplotlib.lines.Line2D at 0x7f3751091be0>],\n",
              " 'whiskers': [<matplotlib.lines.Line2D at 0x7f37510d34a8>,\n",
              "  <matplotlib.lines.Line2D at 0x7f37510d3828>,\n",
              "  <matplotlib.lines.Line2D at 0x7f37510da160>,\n",
              "  <matplotlib.lines.Line2D at 0x7f37510da4e0>,\n",
              "  <matplotlib.lines.Line2D at 0x7f3751108da0>,\n",
              "  <matplotlib.lines.Line2D at 0x7f3751091160>]}"
            ]
          },
          "metadata": {
            "tags": []
          },
          "execution_count": 27
        },
        {
          "output_type": "display_data",
          "data": {
            "image/png": "[encoded data removed]",
            "text/plain": [
              "<Figure size 864x360 with 1 Axes>"
            ]
          },
          "metadata": {
            "tags": [],
            "needs_background": "light"
          }
        }
      ]
    },
    {
      "cell_type": "code",
      "metadata": {
        "id": "FtB2XJspKDoI"
      },
      "source": [
        "query_sentences = list(data['Q'])\n",
        "answer_sentences = list(data['A'])\n",
        "\n",
        "query_morph_tokenized_sentences = [okt.morphs(s.replace(' ', '')) for s in query_sentences]\n",
        "query_sent_len_by_morph = [len(t) for t in query_morph_tokenized_sentences]\n",
        "\n",
        "answer_morph_tokenized_sentences = [okt.morphs(s.replace(' ', '')) for s in answer_sentences]\n",
        "answer_sent_len_by_morph = [len(t) for t in answer_morph_tokenized_sentences]"
      ],
      "execution_count": 28,
      "outputs": []
    },
    {
      "cell_type": "code",
      "metadata": {
        "id": "IEuxVvNSKDoI",
        "outputId": "456ea95e-9140-427f-824f-955cb5ae98a4",
        "colab": {
          "base_uri": "https://localhost:8080/",
          "height": 367
        }
      },
      "source": [
        "plt.figure(figsize=(12, 5))\n",
        "plt.hist(query_sent_len_by_morph, bins=50, range=[0,50], color='g', label='Query')\n",
        "plt.hist(answer_sent_len_by_morph, bins=50, range=[0,50], color='r', alpha=0.5, label='Answer')\n",
        "plt.legend()\n",
        "plt.title('Query Length Histogram by Morph Token')\n",
        "plt.xlabel('Query Length')\n",
        "plt.ylabel('Number of Queries')"
      ],
      "execution_count": 29,
      "outputs": [
        {
          "output_type": "execute_result",
          "data": {
            "text/plain": [
              "Text(0, 0.5, 'Number of Queries')"
            ]
          },
          "metadata": {
            "tags": []
          },
          "execution_count": 29
        },
        {
          "output_type": "display_data",
          "data": {
            "image/png": "[encoded data removed]",
            "text/plain": [
              "<Figure size 864x360 with 1 Axes>"
            ]
          },
          "metadata": {
            "tags": [],
            "needs_background": "light"
          }
        }
      ]
    },
    {
      "cell_type": "code",
      "metadata": {
        "id": "neK_4D4mKDoI",
        "outputId": "9752fce2-287a-41ee-9e72-b8d950bc67d7",
        "colab": {
          "base_uri": "https://localhost:8080/",
          "height": 367
        }
      },
      "source": [
        "plt.figure(figsize=(12, 5))\n",
        "plt.hist(query_sent_len_by_morph, bins=50, range=[0,50], color='g', label='Query')\n",
        "plt.hist(answer_sent_len_by_morph, bins=50, range=[0,50], color='r', alpha=0.5, label='Answer')\n",
        "plt.legend()\n",
        "plt.yscale('log', nonposy='clip')\n",
        "plt.title('Query Length Log Histogram by Morph Token')\n",
        "plt.xlabel('Query Length')\n",
        "plt.ylabel('Number of Queries')"
      ],
      "execution_count": 30,
      "outputs": [
        {
          "output_type": "execute_result",
          "data": {
            "text/plain": [
              "Text(0, 0.5, 'Number of Queries')"
            ]
          },
          "metadata": {
            "tags": []
          },
          "execution_count": 30
        },
        {
          "output_type": "display_data",
          "data": {
            "image/png": "[encoded data removed]",
            "text/plain": [
              "<Figure size 864x360 with 1 Axes>"
            ]
          },
          "metadata": {
            "tags": [],
            "needs_background": "light"
          }
        }
      ]
    },
    {
      "cell_type": "code",
      "metadata": {
        "id": "pbAOkFnPKDoJ",
        "outputId": "21b7c7fb-d175-4a28-910d-894d731e102d",
        "colab": {
          "base_uri": "https://localhost:8080/"
        }
      },
      "source": [
        "print('형태소 최대길이: {}'.format(np.max(query_sent_len_by_morph)))\n",
        "print('형태소 최소길이: {}'.format(np.min(query_sent_len_by_morph)))\n",
        "print('형태소 평균길이: {:.2f}'.format(np.mean(query_sent_len_by_morph)))\n",
        "print('형태소 길이 표준편차: {:.2f}'.format(np.std(query_sent_len_by_morph)))\n",
        "print('형태소 중간길이: {}'.format(np.median(query_sent_len_by_morph)))\n",
        "print('형태소 1/4 퍼센타일 길이: {}'.format(np.percentile(query_sent_len_by_morph, 25)))\n",
        "print('형태소 3/4 퍼센타일 길이: {}'.format(np.percentile(query_sent_len_by_morph, 75)))"
      ],
      "execution_count": 31,
      "outputs": [
        {
          "output_type": "stream",
          "text": [
            "형태소 최대길이: 20\n",
            "형태소 최소길이: 1\n",
            "형태소 평균길이: 4.95\n",
            "형태소 길이 표준편차: 2.48\n",
            "형태소 중간길이: 4.0\n",
            "형태소 1/4 퍼센타일 길이: 3.0\n",
            "형태소 3/4 퍼센타일 길이: 6.0\n"
          ],
          "name": "stdout"
        }
      ]
    },
    {
      "cell_type": "code",
      "metadata": {
        "id": "TTxqtULhKDoJ",
        "outputId": "a9736731-d677-4e6b-e595-1c471f9550ba",
        "colab": {
          "base_uri": "https://localhost:8080/"
        }
      },
      "source": [
        "print('형태소 최대길이: {}'.format(np.max(answer_sent_len_by_morph)))\n",
        "print('형태소 최소길이: {}'.format(np.min(answer_sent_len_by_morph)))\n",
        "print('형태소 평균길이: {:.2f}'.format(np.mean(answer_sent_len_by_morph)))\n",
        "print('형태소 길이 표준편차: {:.2f}'.format(np.std(answer_sent_len_by_morph)))\n",
        "print('형태소 중간길이: {}'.format(np.median(answer_sent_len_by_morph)))\n",
        "print('형태소 1/4 퍼센타일 길이: {}'.format(np.percentile(answer_sent_len_by_morph, 25)))\n",
        "print('형태소 3/4 퍼센타일 길이: {}'.format(np.percentile(answer_sent_len_by_morph, 75)))"
      ],
      "execution_count": 32,
      "outputs": [
        {
          "output_type": "stream",
          "text": [
            "형태소 최대길이: 31\n",
            "형태소 최소길이: 1\n",
            "형태소 평균길이: 5.87\n",
            "형태소 길이 표준편차: 2.55\n",
            "형태소 중간길이: 5.0\n",
            "형태소 1/4 퍼센타일 길이: 4.0\n",
            "형태소 3/4 퍼센타일 길이: 7.0\n"
          ],
          "name": "stdout"
        }
      ]
    },
    {
      "cell_type": "code",
      "metadata": {
        "id": "AXIRNI2hKDoJ",
        "outputId": "bcd22d7c-6e07-4937-eff8-823b2449c837",
        "colab": {
          "base_uri": "https://localhost:8080/"
        }
      },
      "source": [
        "okt.pos('오늘밤은유난히덥구나')"
      ],
      "execution_count": 33,
      "outputs": [
        {
          "output_type": "execute_result",
          "data": {
            "text/plain": [
              "[('오늘밤', 'Noun'), ('은', 'Josa'), ('유난히', 'Adverb'), ('덥구나', 'Adjective')]"
            ]
          },
          "metadata": {
            "tags": []
          },
          "execution_count": 33
        }
      ]
    },
    {
      "cell_type": "code",
      "metadata": {
        "id": "_UJvVt3iKDoK"
      },
      "source": [
        "query_NVA_token_sentences = list()\n",
        "answer_NVA_token_sentences = list()\n",
        "\n",
        "for s in query_sentences:\n",
        "    for token, tag in okt.pos(s.replace(' ', '')):\n",
        "        if tag == 'Noun' or tag == 'Verb' or tag == 'Adjective':\n",
        "            query_NVA_token_sentences.append(token)\n",
        "\n",
        "for s in answer_sentences:\n",
        "    temp_token_bucket = list()\n",
        "    for token, tag in okt.pos(s.replace(' ', '')):\n",
        "        if tag == 'Noun' or tag == 'Verb' or tag == 'Adjective':\n",
        "            answer_NVA_token_sentences.append(token)\n",
        "            \n",
        "query_NVA_token_sentences = ' '.join(query_NVA_token_sentences)\n",
        "answer_NVA_token_sentences = ' '.join(answer_NVA_token_sentences)"
      ],
      "execution_count": 34,
      "outputs": []
    },
    {
      "cell_type": "code",
      "metadata": {
        "id": "GvSuEYX7KDoK"
      },
      "source": [
        "query_wordcloud = WordCloud(font_path= DATA_IN_PATH + 'NanumGothic.ttf').generate(query_NVA_token_sentences)\n",
        "\n",
        "plt.imshow(query_wordcloud, interpolation='bilinear')\n",
        "plt.axis('off')\n",
        "plt.show()"
      ],
      "execution_count": null,
      "outputs": []
    },
    {
      "cell_type": "code",
      "metadata": {
        "id": "u1Jr_BPxKDoK"
      },
      "source": [
        "query_wordcloud = WordCloud(font_path= DATA_IN_PATH + 'NanumGothic.ttf').generate(answer_NVA_token_sentences)\n",
        "\n",
        "plt.imshow(query_wordcloud, interpolation='bilinear')\n",
        "plt.axis('off')\n",
        "plt.show()"
      ],
      "execution_count": null,
      "outputs": []
    },
    {
      "cell_type": "code",
      "metadata": {
        "id": "CpeAx9YMT6g8"
      },
      "source": [
        ""
      ],
      "execution_count": null,
      "outputs": []
    }
  ]
}